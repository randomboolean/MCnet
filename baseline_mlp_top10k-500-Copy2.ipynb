{
 "cells": [
  {
   "cell_type": "code",
   "execution_count": 1,
   "metadata": {
    "collapsed": true
   },
   "outputs": [],
   "source": [
    "import os\n",
    "os.environ['CUDA_VISIBLE_DEVICES'] = '0'"
   ]
  },
  {
   "cell_type": "code",
   "execution_count": 2,
   "metadata": {},
   "outputs": [
    {
     "name": "stderr",
     "output_type": "stream",
     "text": [
      "Using TensorFlow backend.\n"
     ]
    }
   ],
   "source": [
    "from __future__ import print_function\n",
    "\n",
    "import keras\n",
    "from keras.models import Sequential\n",
    "from keras.layers import Dense, Dropout\n",
    "\n",
    "from loader import load_20news"
   ]
  },
  {
   "cell_type": "code",
   "execution_count": 3,
   "metadata": {
    "collapsed": true
   },
   "outputs": [],
   "source": [
    "(input_shape, nb_classes), (X_train, X_test, Y_train, Y_test), graph_data = \\\n",
    "    load_20news(data_home='data', top_words=10000, sparse=False, remove_short_documents=True, verbose=False)"
   ]
  },
  {
   "cell_type": "code",
   "execution_count": 4,
   "metadata": {
    "collapsed": true
   },
   "outputs": [],
   "source": [
    "X_train = X_train.reshape(X_train.shape[0], X_train.shape[1] * X_train.shape[2])\n",
    "X_test = X_test.reshape(X_test.shape[0], X_test.shape[1] * X_test.shape[2])\n",
    "batch_size = 64\n",
    "num_classes = Y_train.shape[1]"
   ]
  },
  {
   "cell_type": "code",
   "execution_count": 5,
   "metadata": {},
   "outputs": [
    {
     "name": "stdout",
     "output_type": "stream",
     "text": [
      "(10168, 10000)\n",
      "(7071, 10000)\n",
      "64 20\n"
     ]
    }
   ],
   "source": [
    "print(X_train.shape)\n",
    "print(X_test.shape)\n",
    "print(batch_size, num_classes)"
   ]
  },
  {
   "cell_type": "code",
   "execution_count": 6,
   "metadata": {},
   "outputs": [
    {
     "name": "stdout",
     "output_type": "stream",
     "text": [
      "_________________________________________________________________\n",
      "Layer (type)                 Output Shape              Param #   \n",
      "=================================================================\n",
      "dense_1 (Dense)              (None, 500)               5000500   \n",
      "_________________________________________________________________\n",
      "dropout_1 (Dropout)          (None, 500)               0         \n",
      "_________________________________________________________________\n",
      "dense_2 (Dense)              (None, 20)                10020     \n",
      "=================================================================\n",
      "Total params: 5,010,520\n",
      "Trainable params: 5,010,520\n",
      "Non-trainable params: 0\n",
      "_________________________________________________________________\n"
     ]
    }
   ],
   "source": [
    "model = Sequential()\n",
    "model.add(Dense(500, activation='relu', input_shape=(X_train.shape[1],)))\n",
    "model.add(Dropout(0.2))\n",
    "#model.add(Dense(500, activation='relu'))\n",
    "#model.add(Dropout(0.2))\n",
    "model.add(Dense(num_classes, activation='softmax'))\n",
    "model.summary()"
   ]
  },
  {
   "cell_type": "code",
   "execution_count": 7,
   "metadata": {},
   "outputs": [
    {
     "name": "stdout",
     "output_type": "stream",
     "text": [
      "Train on 10168 samples, validate on 7071 samples\n",
      "Epoch 1/20\n",
      "10168/10168 [==============================] - 3s - loss: 2.7853 - acc: 0.3953 - val_loss: 2.4359 - val_acc: 0.5165\n",
      "Epoch 2/20\n",
      "10168/10168 [==============================] - 1s - loss: 1.8486 - acc: 0.7000 - val_loss: 1.6314 - val_acc: 0.6658\n",
      "Epoch 3/20\n",
      "10168/10168 [==============================] - 1s - loss: 1.1035 - acc: 0.8153 - val_loss: 1.2651 - val_acc: 0.7032\n",
      "Epoch 4/20\n",
      "10168/10168 [==============================] - 1s - loss: 0.7277 - acc: 0.8657 - val_loss: 1.1183 - val_acc: 0.7092\n",
      "Epoch 5/20\n",
      "10168/10168 [==============================] - 1s - loss: 0.5160 - acc: 0.9094 - val_loss: 1.0531 - val_acc: 0.7169\n",
      "Epoch 6/20\n",
      "10168/10168 [==============================] - 1s - loss: 0.3828 - acc: 0.9340 - val_loss: 1.0263 - val_acc: 0.7194\n",
      "Epoch 7/20\n",
      "10168/10168 [==============================] - 1s - loss: 0.2860 - acc: 0.9565 - val_loss: 1.0150 - val_acc: 0.7222\n",
      "Epoch 8/20\n",
      "10168/10168 [==============================] - 1s - loss: 0.2208 - acc: 0.9682 - val_loss: 1.0166 - val_acc: 0.7224\n",
      "Epoch 9/20\n",
      "10168/10168 [==============================] - 1s - loss: 0.1713 - acc: 0.9781 - val_loss: 1.0219 - val_acc: 0.7234\n",
      "Epoch 10/20\n",
      "10168/10168 [==============================] - 1s - loss: 0.1328 - acc: 0.9841 - val_loss: 1.0312 - val_acc: 0.7205\n",
      "Epoch 11/20\n",
      "10168/10168 [==============================] - 1s - loss: 0.1060 - acc: 0.9882 - val_loss: 1.0447 - val_acc: 0.7221\n",
      "Epoch 12/20\n",
      "10168/10168 [==============================] - 1s - loss: 0.0846 - acc: 0.9927 - val_loss: 1.0564 - val_acc: 0.7200\n",
      "Epoch 13/20\n",
      "10168/10168 [==============================] - 1s - loss: 0.0696 - acc: 0.9942 - val_loss: 1.0772 - val_acc: 0.7160\n",
      "Epoch 14/20\n",
      "10168/10168 [==============================] - 1s - loss: 0.0570 - acc: 0.9954 - val_loss: 1.0947 - val_acc: 0.7133\n",
      "Epoch 15/20\n",
      "10168/10168 [==============================] - 1s - loss: 0.0465 - acc: 0.9965 - val_loss: 1.1106 - val_acc: 0.7156\n",
      "Epoch 16/20\n",
      "10168/10168 [==============================] - 1s - loss: 0.0390 - acc: 0.9970 - val_loss: 1.1274 - val_acc: 0.7180\n",
      "Epoch 17/20\n",
      "10168/10168 [==============================] - 1s - loss: 0.0331 - acc: 0.9975 - val_loss: 1.1415 - val_acc: 0.7163\n",
      "Epoch 18/20\n",
      "10168/10168 [==============================] - 1s - loss: 0.0279 - acc: 0.9979 - val_loss: 1.1563 - val_acc: 0.7170\n",
      "Epoch 19/20\n",
      "10168/10168 [==============================] - 1s - loss: 0.0239 - acc: 0.9983 - val_loss: 1.1744 - val_acc: 0.7152\n",
      "Epoch 20/20\n",
      "10168/10168 [==============================] - 1s - loss: 0.0210 - acc: 0.9987 - val_loss: 1.1913 - val_acc: 0.7142\n",
      "Test loss: 1.19131379493\n",
      "Test accuracy: 0.714184697826\n"
     ]
    }
   ],
   "source": [
    "model.compile(loss='categorical_crossentropy',\n",
    "              optimizer='adam',\n",
    "              metrics=['accuracy'])\n",
    "\n",
    "history = model.fit(X_train, Y_train,\n",
    "                    batch_size=batch_size,\n",
    "                    epochs=20,\n",
    "                    verbose=1,\n",
    "                    validation_data=(X_test, Y_test))\n",
    "score = model.evaluate(X_test, Y_test, verbose=0)\n",
    "\n",
    "print('Test loss:', score[0])\n",
    "print('Test accuracy:', score[1])"
   ]
  }
 ],
 "metadata": {
  "kernelspec": {
   "display_name": "pvle",
   "language": "python",
   "name": "pvle"
  },
  "language_info": {
   "codemirror_mode": {
    "name": "ipython",
    "version": 2
   },
   "file_extension": ".py",
   "mimetype": "text/x-python",
   "name": "python",
   "nbconvert_exporter": "python",
   "pygments_lexer": "ipython2",
   "version": "2.7.5"
  }
 },
 "nbformat": 4,
 "nbformat_minor": 2
}
