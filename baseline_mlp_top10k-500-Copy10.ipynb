{
 "cells": [
  {
   "cell_type": "code",
   "execution_count": 1,
   "metadata": {
    "collapsed": true
   },
   "outputs": [],
   "source": [
    "import os\n",
    "os.environ['CUDA_VISIBLE_DEVICES'] = '0'"
   ]
  },
  {
   "cell_type": "code",
   "execution_count": 2,
   "metadata": {},
   "outputs": [
    {
     "name": "stderr",
     "output_type": "stream",
     "text": [
      "Using TensorFlow backend.\n"
     ]
    }
   ],
   "source": [
    "from __future__ import print_function\n",
    "\n",
    "import keras\n",
    "from keras.models import Sequential\n",
    "from keras.layers import Dense, Dropout\n",
    "\n",
    "from loader import load_20news"
   ]
  },
  {
   "cell_type": "code",
   "execution_count": 3,
   "metadata": {
    "collapsed": true
   },
   "outputs": [],
   "source": [
    "(input_shape, nb_classes), (X_train, X_test, Y_train, Y_test), graph_data = \\\n",
    "    load_20news(data_home='data', top_words=10000, sparse=False, remove_short_documents=True, verbose=False)"
   ]
  },
  {
   "cell_type": "code",
   "execution_count": 4,
   "metadata": {
    "collapsed": true
   },
   "outputs": [],
   "source": [
    "X_train = X_train.reshape(X_train.shape[0], X_train.shape[1] * X_train.shape[2])\n",
    "X_test = X_test.reshape(X_test.shape[0], X_test.shape[1] * X_test.shape[2])\n",
    "batch_size = 64\n",
    "num_classes = Y_train.shape[1]"
   ]
  },
  {
   "cell_type": "code",
   "execution_count": 5,
   "metadata": {},
   "outputs": [
    {
     "name": "stdout",
     "output_type": "stream",
     "text": [
      "(10168, 10000)\n",
      "(7071, 10000)\n",
      "64 20\n"
     ]
    }
   ],
   "source": [
    "print(X_train.shape)\n",
    "print(X_test.shape)\n",
    "print(batch_size, num_classes)"
   ]
  },
  {
   "cell_type": "code",
   "execution_count": null,
   "metadata": {},
   "outputs": [
    {
     "name": "stdout",
     "output_type": "stream",
     "text": [
      "_________________________________________________________________\n",
      "Layer (type)                 Output Shape              Param #   \n",
      "=================================================================\n",
      "dense_1 (Dense)              (None, 500)               5000500   \n",
      "_________________________________________________________________\n",
      "dropout_1 (Dropout)          (None, 500)               0         \n",
      "_________________________________________________________________\n",
      "dense_2 (Dense)              (None, 20)                10020     \n",
      "=================================================================\n",
      "Total params: 5,010,520\n",
      "Trainable params: 5,010,520\n",
      "Non-trainable params: 0\n",
      "_________________________________________________________________\n"
     ]
    }
   ],
   "source": [
    "model = Sequential()\n",
    "model.add(Dense(500, activation='relu', input_shape=(X_train.shape[1],)))\n",
    "model.add(Dropout(0.2))\n",
    "#model.add(Dense(500, activation='relu'))\n",
    "#model.add(Dropout(0.2))\n",
    "model.add(Dense(num_classes, activation='softmax'))\n",
    "model.summary()"
   ]
  },
  {
   "cell_type": "code",
   "execution_count": null,
   "metadata": {},
   "outputs": [
    {
     "name": "stdout",
     "output_type": "stream",
     "text": [
      "Train on 10168 samples, validate on 7071 samples\n",
      "Epoch 1/20\n",
      "10168/10168 [==============================] - 3s - loss: 2.7805 - acc: 0.3803 - val_loss: 2.4347 - val_acc: 0.5166\n",
      "Epoch 2/20\n",
      "10168/10168 [==============================] - 1s - loss: 1.8550 - acc: 0.6970 - val_loss: 1.6379 - val_acc: 0.6517\n",
      "Epoch 3/20\n",
      "10168/10168 [==============================] - 1s - loss: 1.1081 - acc: 0.8113 - val_loss: 1.2667 - val_acc: 0.6966\n",
      "Epoch 4/20\n",
      "10168/10168 [==============================] - 1s - loss: 0.7300 - acc: 0.8707 - val_loss: 1.1203 - val_acc: 0.7116\n",
      "Epoch 5/20\n",
      "10168/10168 [==============================] - 1s - loss: 0.5194 - acc: 0.9065 - val_loss: 1.0530 - val_acc: 0.7142\n",
      "Epoch 6/20\n",
      "10168/10168 [==============================] - 1s - loss: 0.3822 - acc: 0.9341 - val_loss: 1.0245 - val_acc: 0.7220\n",
      "Epoch 7/20\n",
      "10168/10168 [==============================] - 1s - loss: 0.2878 - acc: 0.9550 - val_loss: 1.0212 - val_acc: 0.7203\n",
      "Epoch 8/20\n",
      "10168/10168 [==============================] - 1s - loss: 0.2194 - acc: 0.9689 - val_loss: 1.0151 - val_acc: 0.7221\n",
      "Epoch 9/20\n",
      "10168/10168 [==============================] - 1s - loss: 0.1711 - acc: 0.9778 - val_loss: 1.0214 - val_acc: 0.7251\n",
      "Epoch 10/20\n",
      "10168/10168 [==============================] - 1s - loss: 0.1327 - acc: 0.9848 - val_loss: 1.0340 - val_acc: 0.7189\n",
      "Epoch 11/20\n",
      "10168/10168 [==============================] - 1s - loss: 0.1060 - acc: 0.9887 - val_loss: 1.0446 - val_acc: 0.7208\n",
      "Epoch 12/20\n",
      "10168/10168 [==============================] - 1s - loss: 0.0847 - acc: 0.9923 - val_loss: 1.0602 - val_acc: 0.7210\n",
      "Epoch 13/20\n",
      "10168/10168 [==============================] - 1s - loss: 0.0697 - acc: 0.9948 - val_loss: 1.0749 - val_acc: 0.7176\n",
      "Epoch 14/20\n",
      "10168/10168 [==============================] - 1s - loss: 0.0572 - acc: 0.9959 - val_loss: 1.0916 - val_acc: 0.7180\n",
      "Epoch 15/20\n",
      "10168/10168 [==============================] - 1s - loss: 0.0471 - acc: 0.9967 - val_loss: 1.1077 - val_acc: 0.7200\n",
      "Epoch 16/20\n",
      "10168/10168 [==============================] - 1s - loss: 0.0389 - acc: 0.9970 - val_loss: 1.1257 - val_acc: 0.7166\n",
      "Epoch 17/20\n",
      " 4544/10168 [============>.................] - ETA: 0s - loss: 0.0337 - acc: 0.9980"
     ]
    }
   ],
   "source": [
    "model.compile(loss='categorical_crossentropy',\n",
    "              optimizer='adam',\n",
    "              metrics=['accuracy'])\n",
    "\n",
    "history = model.fit(X_train, Y_train,\n",
    "                    batch_size=batch_size,\n",
    "                    epochs=20,\n",
    "                    verbose=1,\n",
    "                    validation_data=(X_test, Y_test))\n",
    "score = model.evaluate(X_test, Y_test, verbose=0)\n",
    "\n",
    "print('Test loss:', score[0])\n",
    "print('Test accuracy:', score[1])"
   ]
  }
 ],
 "metadata": {
  "kernelspec": {
   "display_name": "pvle",
   "language": "python",
   "name": "pvle"
  },
  "language_info": {
   "codemirror_mode": {
    "name": "ipython",
    "version": 2
   },
   "file_extension": ".py",
   "mimetype": "text/x-python",
   "name": "python",
   "nbconvert_exporter": "python",
   "pygments_lexer": "ipython2",
   "version": "2.7.5"
  }
 },
 "nbformat": 4,
 "nbformat_minor": 2
}
