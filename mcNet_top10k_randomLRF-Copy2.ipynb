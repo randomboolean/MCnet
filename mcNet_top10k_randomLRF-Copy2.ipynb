{
 "cells": [
  {
   "cell_type": "code",
   "execution_count": 1,
   "metadata": {},
   "outputs": [],
   "source": [
    "import os\n",
    "os.environ['CUDA_VISIBLE_DEVICES'] = '1'"
   ]
  },
  {
   "cell_type": "code",
   "execution_count": 2,
   "metadata": {},
   "outputs": [
    {
     "name": "stderr",
     "output_type": "stream",
     "text": [
      "/home/vle/anaconda3/lib/python3.6/site-packages/h5py/__init__.py:36: FutureWarning: Conversion of the second argument of issubdtype from `float` to `np.floating` is deprecated. In future, it will be treated as `np.float64 == np.dtype(float).type`.\n",
      "  from ._conv import register_converters as _register_converters\n",
      "Using TensorFlow backend.\n"
     ]
    }
   ],
   "source": [
    "from __future__ import print_function\n",
    "\n",
    "import keras\n",
    "from keras.models import Sequential\n",
    "from keras.layers import Conv1D, Dense, Dropout, Flatten, BatchNormalization\n",
    "from keras.callbacks import EarlyStopping, CSVLogger\n",
    "\n",
    "from loader import load_20news\n",
    "from custom_layer import MonteCarloLRF, SeparableMonteCarloLRF, SeparableMonteCarloMaxPoolingV2, RandomLRF\n",
    "\n",
    "import numpy as np\n",
    "import sklearn as sk\n",
    "import pickle"
   ]
  },
  {
   "cell_type": "code",
   "execution_count": 3,
   "metadata": {},
   "outputs": [],
   "source": [
    "top_words=10000\n",
    "sparse=False\n",
    "remove_short_documents=True\n",
    "notebook = 'mcNet_top10k_temptative_42'"
   ]
  },
  {
   "cell_type": "code",
   "execution_count": 4,
   "metadata": {},
   "outputs": [],
   "source": [
    "(input_shape, nb_classes), (X_train, X_test, Y_train, Y_test), graph_data = \\\n",
    "    load_20news(data_home='data', top_words=top_words, sparse=sparse,\n",
    "                remove_short_documents=remove_short_documents, verbose=False)"
   ]
  },
  {
   "cell_type": "code",
   "execution_count": 5,
   "metadata": {},
   "outputs": [],
   "source": [
    "X_train = X_train.reshape(X_train.shape[0], X_train.shape[1], X_train.shape[2])\n",
    "X_test = X_test.reshape(X_test.shape[0], X_test.shape[1], X_test.shape[2])\n",
    "num_classes = Y_train.shape[1]"
   ]
  },
  {
   "cell_type": "code",
   "execution_count": 6,
   "metadata": {},
   "outputs": [
    {
     "name": "stdout",
     "output_type": "stream",
     "text": [
      "CPU times: user 2.38 s, sys: 800 ms, total: 3.18 s\n",
      "Wall time: 3.17 s\n"
     ]
    }
   ],
   "source": [
    "%%time\n",
    "#Process next cell only once\n",
    "path = os.path.join('probabilities_' + \n",
    "                    'top' + str(top_words) +\n",
    "                    '_sparse' + str(sparse) +\n",
    "                    '_removeShorts' + str(remove_short_documents) +\n",
    "                    '.pkl')\n",
    "if os.path.isfile(path):\n",
    "  probabilities = pickle.load(open(path, \"rb\"), encoding='latin1')"
   ]
  },
  {
   "cell_type": "code",
   "execution_count": 7,
   "metadata": {},
   "outputs": [],
   "source": [
    "if not(os.path.isfile(path)):\n",
    "  METRIC = 'cosine'#'euclidean'\n",
    "  distances = sk.metrics.pairwise.pairwise_distances(graph_data, metric=METRIC, n_jobs=-2)\n",
    "\n",
    "  # enforce exact zero\n",
    "  for k in xrange(distances.shape[0]):\n",
    "    distances[k,k] = 0.\n",
    "\n",
    "  # max normalize\n",
    "  #distances /= distances.max()\n",
    "  distances /= distances.max(axis=1).reshape((distances.shape[0], 1))\n",
    "\n",
    "  # use tricube kernel (becaause of flatness around 0)\n",
    "  probabilities = (1. - np.abs(distances) ** 3) ** 3\n",
    "\n",
    "  # remove auto connections (which are taken anyway in LRF)\n",
    "  for k in xrange(probabilities.shape[0]):\n",
    "    probabilities[k,k] = 0.\n",
    "\n",
    "  # normalize proba\n",
    "  probabilities /= np.sum(probabilities, axis=1).reshape((probabilities.shape[0], 1))\n",
    "  \n",
    "  # pickled for later use\n",
    "  pickle.dump(probabilities, open(path,\"wb\"))  "
   ]
  },
  {
   "cell_type": "code",
   "execution_count": 8,
   "metadata": {},
   "outputs": [
    {
     "name": "stdout",
     "output_type": "stream",
     "text": [
      "_________________________________________________________________\n",
      "Layer (type)                 Output Shape              Param #   \n",
      "=================================================================\n",
      "random_lrf_1 (RandomLRF)     (None, 10000, 25)         425       \n",
      "_________________________________________________________________\n",
      "batch_normalization_1 (Batch (None, 10000, 25)         40000     \n",
      "_________________________________________________________________\n",
      "flatten_1 (Flatten)          (None, 250000)            0         \n",
      "_________________________________________________________________\n",
      "dropout_1 (Dropout)          (None, 250000)            0         \n",
      "_________________________________________________________________\n",
      "dense_1 (Dense)              (None, 20)                5000020   \n",
      "=================================================================\n",
      "Total params: 5,040,445\n",
      "Trainable params: 5,020,445\n",
      "Non-trainable params: 20,000\n",
      "_________________________________________________________________\n"
     ]
    }
   ],
   "source": [
    "batch_size = 256\n",
    "model = Sequential()\n",
    "model.add(RandomLRF(probabilities, LRF_size=16, filters=25, activation='relu',\n",
    "                       input_shape=(X_train.shape[1], X_train.shape[2])))\n",
    "model.add(BatchNormalization(axis=1))\n",
    "#model.add(Conv1D(1, kernel_size=1, activation='relu',\n",
    "#                 padding='same',kernel_initializer='he_uniform'))\n",
    "#model.add(SeparableMonteCarloMaxPoolingV2(LRF_size=4, new_size=2500))\n",
    "#model.add(Dropout(0.2))\n",
    "model.add(Flatten())\n",
    "#model.add(Dense(500, activation='relu'))\n",
    "model.add(Dropout(0.8))\n",
    "model.add(Dense(num_classes, activation='softmax'))\n",
    "model.summary()"
   ]
  },
  {
   "cell_type": "code",
   "execution_count": 9,
   "metadata": {},
   "outputs": [
    {
     "name": "stdout",
     "output_type": "stream",
     "text": [
      "Train on 10168 samples, validate on 7071 samples\n",
      "Epoch 1/20\n",
      "10168/10168 [==============================] - 11s 1ms/step - loss: 1.6425 - acc: 0.5808 - val_loss: 1.2168 - val_acc: 0.6756\n",
      "Epoch 2/20\n",
      "10168/10168 [==============================] - 9s 879us/step - loss: 0.4605 - acc: 0.8870 - val_loss: 1.1700 - val_acc: 0.6921\n",
      "Epoch 3/20\n",
      "10168/10168 [==============================] - 9s 879us/step - loss: 0.2266 - acc: 0.9469 - val_loss: 1.2157 - val_acc: 0.6907\n",
      "Epoch 4/20\n",
      "10168/10168 [==============================] - 9s 879us/step - loss: 0.1243 - acc: 0.9762 - val_loss: 1.3969 - val_acc: 0.6725\n",
      "Test loss: 1.3969361979154529\n",
      "Test accuracy: 0.6724649979208066\n"
     ]
    }
   ],
   "source": [
    "model.compile(loss='categorical_crossentropy',\n",
    "              optimizer='adam',\n",
    "              metrics=['accuracy'])\n",
    "\n",
    "early_stopper = EarlyStopping(min_delta=0.001, patience=2)\n",
    "csv = CSVLogger(notebook + '_log.csv')\n",
    "\n",
    "history = model.fit(X_train, Y_train,\n",
    "                    batch_size=batch_size,\n",
    "                    epochs=20,\n",
    "                    verbose=1,\n",
    "                    callbacks=[early_stopper, csv],\n",
    "                    validation_data=(X_test, Y_test))\n",
    "score = model.evaluate(X_test, Y_test, verbose=0)\n",
    "\n",
    "print('Test loss:', score[0])\n",
    "print('Test accuracy:', score[1])"
   ]
  },
  {
   "cell_type": "code",
   "execution_count": 10,
   "metadata": {},
   "outputs": [
    {
     "name": "stdout",
     "output_type": "stream",
     "text": [
      "epoch,acc,loss,val_acc,val_loss\r\n",
      "0,0.5808418563836021,1.6425235706647487,0.6755762969043194,1.2167736569888654\r\n",
      "1,0.8869984262951897,0.4604991487777674,0.6921227553864885,1.169997093844761\r\n",
      "2,0.9468922109513842,0.22660820962264724,0.6907085280424465,1.215745747671018\r\n",
      "3,0.9761998427373795,0.12425905712869204,0.6724649974487573,1.3969360224311516\r\n"
     ]
    }
   ],
   "source": [
    "%%bash\n",
    "tail mcNet_top10k_temptative_42_log.csv"
   ]
  },
  {
   "cell_type": "code",
   "execution_count": null,
   "metadata": {},
   "outputs": [],
   "source": []
  }
 ],
 "metadata": {
  "kernelspec": {
   "display_name": "Python 3",
   "language": "python",
   "name": "python3"
  },
  "language_info": {
   "codemirror_mode": {
    "name": "ipython",
    "version": 3
   },
   "file_extension": ".py",
   "mimetype": "text/x-python",
   "name": "python",
   "nbconvert_exporter": "python",
   "pygments_lexer": "ipython3",
   "version": "3.6.5"
  }
 },
 "nbformat": 4,
 "nbformat_minor": 2
}
