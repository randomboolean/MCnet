{
 "cells": [
  {
   "cell_type": "code",
   "execution_count": 1,
   "metadata": {
    "collapsed": true
   },
   "outputs": [],
   "source": [
    "import os\n",
    "os.environ['CUDA_VISIBLE_DEVICES'] = '1'"
   ]
  },
  {
   "cell_type": "code",
   "execution_count": 2,
   "metadata": {},
   "outputs": [
    {
     "name": "stderr",
     "output_type": "stream",
     "text": [
      "Using TensorFlow backend.\n"
     ]
    }
   ],
   "source": [
    "from __future__ import print_function\n",
    "\n",
    "import keras\n",
    "from keras.models import Sequential\n",
    "from keras.layers import Dense, Dropout\n",
    "\n",
    "from loader import load_20news"
   ]
  },
  {
   "cell_type": "code",
   "execution_count": 3,
   "metadata": {},
   "outputs": [
    {
     "name": "stdout",
     "output_type": "stream",
     "text": [
      "N = 11314 documents, C = 20 classes\n",
      "53279 words not found in corpus\n",
      "N = 7532 documents, C = 20 classes\n"
     ]
    }
   ],
   "source": [
    "(input_shape, nb_classes), (X_train, X_test, Y_train, Y_test), graph_data = \\\n",
    "    load_20news(data_home='data', top_words=10000, sparse=False, remove_short_documents=True, verbose=False)"
   ]
  },
  {
   "cell_type": "code",
   "execution_count": 5,
   "metadata": {
    "collapsed": true
   },
   "outputs": [],
   "source": [
    "X_train = X_train.reshape(X_train.shape[0], X_train.shape[1] * X_train.shape[2])\n",
    "X_test = X_test.reshape(X_test.shape[0], X_test.shape[1] * X_test.shape[2])\n",
    "batch_size = 64\n",
    "num_classes = Y_train.shape[1]"
   ]
  },
  {
   "cell_type": "code",
   "execution_count": 6,
   "metadata": {},
   "outputs": [
    {
     "name": "stdout",
     "output_type": "stream",
     "text": [
      "(10168, 10000)\n",
      "(7071, 10000)\n",
      "64 20\n"
     ]
    }
   ],
   "source": [
    "print(X_train.shape)\n",
    "print(X_test.shape)\n",
    "print(batch_size, num_classes)"
   ]
  },
  {
   "cell_type": "code",
   "execution_count": 7,
   "metadata": {},
   "outputs": [
    {
     "name": "stdout",
     "output_type": "stream",
     "text": [
      "_________________________________________________________________\n",
      "Layer (type)                 Output Shape              Param #   \n",
      "=================================================================\n",
      "dense_1 (Dense)              (None, 2500)              25002500  \n",
      "_________________________________________________________________\n",
      "dropout_1 (Dropout)          (None, 2500)              0         \n",
      "_________________________________________________________________\n",
      "dense_2 (Dense)              (None, 500)               1250500   \n",
      "_________________________________________________________________\n",
      "dropout_2 (Dropout)          (None, 500)               0         \n",
      "_________________________________________________________________\n",
      "dense_3 (Dense)              (None, 20)                10020     \n",
      "=================================================================\n",
      "Total params: 26,263,020\n",
      "Trainable params: 26,263,020\n",
      "Non-trainable params: 0\n",
      "_________________________________________________________________\n"
     ]
    }
   ],
   "source": [
    "model = Sequential()\n",
    "model.add(Dense(2500, activation='relu', input_shape=(X_train.shape[1],)))\n",
    "model.add(Dropout(0.2))\n",
    "model.add(Dense(500, activation='relu'))\n",
    "model.add(Dropout(0.2))\n",
    "model.add(Dense(num_classes, activation='softmax'))\n",
    "model.summary()"
   ]
  },
  {
   "cell_type": "code",
   "execution_count": 8,
   "metadata": {},
   "outputs": [
    {
     "name": "stdout",
     "output_type": "stream",
     "text": [
      "Train on 10168 samples, validate on 7071 samples\n",
      "Epoch 1/20\n",
      "10168/10168 [==============================] - 6s - loss: 1.9898 - acc: 0.4329 - val_loss: 1.2256 - val_acc: 0.6473\n",
      "Epoch 2/20\n",
      "10168/10168 [==============================] - 5s - loss: 0.5873 - acc: 0.8350 - val_loss: 1.0975 - val_acc: 0.6947\n",
      "Epoch 3/20\n",
      "10168/10168 [==============================] - 5s - loss: 0.2056 - acc: 0.9493 - val_loss: 1.1818 - val_acc: 0.6972\n",
      "Epoch 4/20\n",
      "10168/10168 [==============================] - 5s - loss: 0.0793 - acc: 0.9846 - val_loss: 1.2829 - val_acc: 0.7013\n",
      "Epoch 5/20\n",
      "10168/10168 [==============================] - 5s - loss: 0.0345 - acc: 0.9953 - val_loss: 1.3969 - val_acc: 0.6966\n",
      "Epoch 6/20\n",
      "10168/10168 [==============================] - 5s - loss: 0.0188 - acc: 0.9976 - val_loss: 1.4753 - val_acc: 0.6991\n",
      "Epoch 7/20\n",
      "10168/10168 [==============================] - 5s - loss: 0.0131 - acc: 0.9984 - val_loss: 1.5476 - val_acc: 0.6952\n",
      "Epoch 8/20\n",
      "10168/10168 [==============================] - 5s - loss: 0.0124 - acc: 0.9977 - val_loss: 1.5891 - val_acc: 0.6938\n",
      "Epoch 9/20\n",
      "10168/10168 [==============================] - 5s - loss: 0.0084 - acc: 0.9988 - val_loss: 1.6217 - val_acc: 0.6959\n",
      "Epoch 10/20\n",
      "10168/10168 [==============================] - 5s - loss: 0.0071 - acc: 0.9989 - val_loss: 1.6869 - val_acc: 0.6933\n",
      "Epoch 11/20\n",
      "10168/10168 [==============================] - 5s - loss: 0.0067 - acc: 0.9989 - val_loss: 1.7434 - val_acc: 0.6879\n",
      "Epoch 12/20\n",
      "10168/10168 [==============================] - 5s - loss: 0.0080 - acc: 0.9984 - val_loss: 1.7575 - val_acc: 0.6848\n",
      "Epoch 13/20\n",
      "10168/10168 [==============================] - 5s - loss: 0.0075 - acc: 0.9985 - val_loss: 1.7750 - val_acc: 0.6935\n",
      "Epoch 14/20\n",
      "10168/10168 [==============================] - 5s - loss: 0.0057 - acc: 0.9987 - val_loss: 1.8181 - val_acc: 0.6866\n",
      "Epoch 15/20\n",
      "10168/10168 [==============================] - 5s - loss: 0.0047 - acc: 0.9990 - val_loss: 1.8393 - val_acc: 0.6955\n",
      "Epoch 16/20\n",
      "10168/10168 [==============================] - 5s - loss: 0.0045 - acc: 0.9990 - val_loss: 1.8544 - val_acc: 0.6896\n",
      "Epoch 17/20\n",
      "10168/10168 [==============================] - 5s - loss: 0.0034 - acc: 0.9992 - val_loss: 1.9127 - val_acc: 0.6887\n",
      "Epoch 18/20\n",
      "10168/10168 [==============================] - 5s - loss: 0.0032 - acc: 0.9991 - val_loss: 1.8954 - val_acc: 0.6927\n",
      "Epoch 19/20\n",
      "10168/10168 [==============================] - 5s - loss: 0.0033 - acc: 0.9992 - val_loss: 1.9634 - val_acc: 0.6910\n",
      "Epoch 20/20\n",
      "10168/10168 [==============================] - 5s - loss: 0.0058 - acc: 0.9987 - val_loss: 1.9675 - val_acc: 0.6877\n",
      "Test loss: 1.96750904944\n",
      "Test accuracy: 0.687738650718\n"
     ]
    }
   ],
   "source": [
    "model.compile(loss='categorical_crossentropy',\n",
    "              optimizer='adam',\n",
    "              metrics=['accuracy'])\n",
    "\n",
    "history = model.fit(X_train, Y_train,\n",
    "                    batch_size=batch_size,\n",
    "                    epochs=20,\n",
    "                    verbose=1,\n",
    "                    validation_data=(X_test, Y_test))\n",
    "score = model.evaluate(X_test, Y_test, verbose=0)\n",
    "\n",
    "print('Test loss:', score[0])\n",
    "print('Test accuracy:', score[1])"
   ]
  }
 ],
 "metadata": {
  "kernelspec": {
   "display_name": "pvle",
   "language": "python",
   "name": "pvle"
  },
  "language_info": {
   "codemirror_mode": {
    "name": "ipython",
    "version": 2
   },
   "file_extension": ".py",
   "mimetype": "text/x-python",
   "name": "python",
   "nbconvert_exporter": "python",
   "pygments_lexer": "ipython2",
   "version": "2.7.5"
  }
 },
 "nbformat": 4,
 "nbformat_minor": 2
}
