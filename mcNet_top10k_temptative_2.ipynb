{
 "cells": [
  {
   "cell_type": "code",
   "execution_count": 1,
   "metadata": {
    "collapsed": true
   },
   "outputs": [],
   "source": [
    "import os\n",
    "os.environ['CUDA_VISIBLE_DEVICES'] = '0'"
   ]
  },
  {
   "cell_type": "code",
   "execution_count": 2,
   "metadata": {},
   "outputs": [
    {
     "name": "stderr",
     "output_type": "stream",
     "text": [
      "Using TensorFlow backend.\n"
     ]
    }
   ],
   "source": [
    "from __future__ import print_function\n",
    "\n",
    "import keras\n",
    "from keras.models import Sequential\n",
    "from keras.layers import Conv1D, Dense, Dropout, Flatten\n",
    "from keras.callbacks import EarlyStopping, CSVLogger\n",
    "\n",
    "from loader import load_20news\n",
    "from custom_layer import MonteCarloLRF, SeparableMonteCarloLRF, SeparableMonteCarloMaxPoolingV2\n",
    "\n",
    "import numpy as np\n",
    "import sklearn as sk"
   ]
  },
  {
   "cell_type": "code",
   "execution_count": 3,
   "metadata": {
    "collapsed": true
   },
   "outputs": [],
   "source": [
    "(input_shape, nb_classes), (X_train, X_test, Y_train, Y_test), graph_data = \\\n",
    "    load_20news(data_home='data', top_words=10000, sparse=False, remove_short_documents=True, verbose=False)"
   ]
  },
  {
   "cell_type": "code",
   "execution_count": 4,
   "metadata": {
    "collapsed": true
   },
   "outputs": [],
   "source": [
    "X_train = X_train.reshape(X_train.shape[0], X_train.shape[1], X_train.shape[2])\n",
    "X_test = X_test.reshape(X_test.shape[0], X_test.shape[1], X_test.shape[2])\n",
    "batch_size = 16\n",
    "num_classes = Y_train.shape[1]"
   ]
  },
  {
   "cell_type": "code",
   "execution_count": 5,
   "metadata": {},
   "outputs": [
    {
     "name": "stdout",
     "output_type": "stream",
     "text": [
      "(10168, 10000, 1)\n",
      "(7071, 10000, 1)\n",
      "16 20\n"
     ]
    }
   ],
   "source": [
    "print(X_train.shape)\n",
    "print(X_test.shape)\n",
    "print(batch_size, num_classes)"
   ]
  },
  {
   "cell_type": "code",
   "execution_count": 6,
   "metadata": {},
   "outputs": [
    {
     "name": "stdout",
     "output_type": "stream",
     "text": [
      "CPU times: user 426 ms, sys: 251 ms, total: 677 ms\n",
      "Wall time: 1.34 s\n"
     ]
    }
   ],
   "source": [
    "%%time\n",
    "METRIC = 'cosine'#'euclidean'\n",
    "distances = sk.metrics.pairwise.pairwise_distances(graph_data, metric=METRIC, n_jobs=-2)\n",
    "\n",
    "# enforce exact zero\n",
    "for k in xrange(distances.shape[0]):\n",
    "  distances[k,k] = 0."
   ]
  },
  {
   "cell_type": "code",
   "execution_count": 7,
   "metadata": {},
   "outputs": [
    {
     "name": "stdout",
     "output_type": "stream",
     "text": [
      "CPU times: user 11.2 s, sys: 125 ms, total: 11.3 s\n",
      "Wall time: 11.5 s\n"
     ]
    }
   ],
   "source": [
    "%%time\n",
    "# max normalize\n",
    "#distances /= distances.max()\n",
    "distances /= distances.max(axis=1).reshape((distances.shape[0], 1))\n",
    "\n",
    "# use tricube kernel (becaause of flatness around 0)\n",
    "probabilities = (1. - np.abs(distances) ** 3) ** 3\n",
    "\n",
    "# remove auto connections (which are taken anyway in LRF)\n",
    "for k in xrange(probabilities.shape[0]):\n",
    "  probabilities[k,k] = 0.\n",
    "\n",
    "# normalize proba\n",
    "probabilities /= np.sum(probabilities, axis=1).reshape((probabilities.shape[0], 1))"
   ]
  },
  {
   "cell_type": "code",
   "execution_count": 8,
   "metadata": {},
   "outputs": [
    {
     "name": "stdout",
     "output_type": "stream",
     "text": [
      "_________________________________________________________________\n",
      "Layer (type)                 Output Shape              Param #   \n",
      "=================================================================\n",
      "monte_carlo_lrf_1 (MonteCarl (None, 10000, 64)         1088      \n",
      "_________________________________________________________________\n",
      "separable_monte_carlo_max_po (None, 2500, 64)          0         \n",
      "_________________________________________________________________\n",
      "conv1d_1 (Conv1D)            (None, 2500, 16)          1040      \n",
      "_________________________________________________________________\n",
      "dropout_1 (Dropout)          (None, 2500, 16)          0         \n",
      "_________________________________________________________________\n",
      "flatten_1 (Flatten)          (None, 40000)             0         \n",
      "_________________________________________________________________\n",
      "dense_1 (Dense)              (None, 20)                800020    \n",
      "=================================================================\n",
      "Total params: 802,148\n",
      "Trainable params: 802,148\n",
      "Non-trainable params: 0\n",
      "_________________________________________________________________\n",
      "CPU times: user 1min 38s, sys: 27.2 ms, total: 1min 38s\n",
      "Wall time: 1min 38s\n"
     ]
    }
   ],
   "source": [
    "%%time\n",
    "model = Sequential()\n",
    "model.add(MonteCarloLRF(probabilities, LRF_size=16, filters=64, activation='relu',\n",
    "                       input_shape=(X_train.shape[1], X_train.shape[2])))\n",
    "model.add(SeparableMonteCarloMaxPoolingV2(LRF_size=4, new_size=2500))\n",
    "#model.add(MonteCarloLRF(probabilities, LRF_size=16, filters=64, activation='relu',\n",
    "#                       input_shape=(X_train.shape[1], X_train.shape[2])))\n",
    "model.add(Conv1D(16, kernel_size=1, activation='relu',\n",
    "                 padding='same',kernel_initializer='he_uniform'))\n",
    "model.add(Dropout(0.2))\n",
    "model.add(Flatten())\n",
    "model.add(Dense(num_classes, activation='softmax'))\n",
    "model.summary()"
   ]
  },
  {
   "cell_type": "code",
   "execution_count": 9,
   "metadata": {},
   "outputs": [
    {
     "name": "stdout",
     "output_type": "stream",
     "text": [
      "Train on 10168 samples, validate on 7071 samples\n",
      "Epoch 1/20\n",
      "10168/10168 [==============================] - 190s - loss: 2.3413 - acc: 0.3497 - val_loss: 1.6485 - val_acc: 0.5641\n",
      "Epoch 2/20\n",
      "10168/10168 [==============================] - 188s - loss: 0.8766 - acc: 0.7784 - val_loss: 1.2983 - val_acc: 0.6529\n",
      "Epoch 3/20\n",
      "10168/10168 [==============================] - 188s - loss: 0.4053 - acc: 0.8934 - val_loss: 1.4201 - val_acc: 0.6429\n",
      "Epoch 4/20\n",
      "10168/10168 [==============================] - 188s - loss: 0.2089 - acc: 0.9471 - val_loss: 1.4192 - val_acc: 0.6637\n",
      "Epoch 5/20\n",
      "10168/10168 [==============================] - 188s - loss: 0.1160 - acc: 0.9739 - val_loss: 1.5305 - val_acc: 0.6651\n",
      "Test loss: 1.53053414055\n",
      "Test accuracy: 0.665111016863\n"
     ]
    }
   ],
   "source": [
    "model.compile(loss='categorical_crossentropy',\n",
    "              optimizer='adam',\n",
    "              metrics=['accuracy'])\n",
    "\n",
    "early_stopper = EarlyStopping(min_delta=0.001, patience=2)\n",
    "csv = CSVLogger('mcNet_top10k_temptative_2_log.csv')\n",
    "\n",
    "history = model.fit(X_train, Y_train,\n",
    "                    batch_size=batch_size,\n",
    "                    epochs=20,\n",
    "                    verbose=1,\n",
    "                    callbacks=[early_stopper, csv],\n",
    "                    validation_data=(X_test, Y_test))\n",
    "score = model.evaluate(X_test, Y_test, verbose=0)\n",
    "\n",
    "print('Test loss:', score[0])\n",
    "print('Test accuracy:', score[1])"
   ]
  },
  {
   "cell_type": "code",
   "execution_count": 10,
   "metadata": {},
   "outputs": [
    {
     "name": "stdout",
     "output_type": "stream",
     "text": [
      "epoch,acc,loss,val_acc,val_loss\r\n",
      "0,0.34972462627852086,2.3413197327372974,0.56413520016371488,1.648478078430806\r\n",
      "1,0.77842250196695517,0.87663142084137458,0.65294866372395599,1.2982822778184147\r\n",
      "2,0.89339103068450043,0.4052770104490801,0.64290765102775171,1.4201334336238609\r\n",
      "3,0.94708890637293475,0.20887747781979907,0.6636967898730155,1.4192432149972862\r\n",
      "4,0.97393784421715179,0.1159904236327505,0.66511101699789177,1.5305341346785499\r\n"
     ]
    }
   ],
   "source": [
    "%%bash\n",
    "tail mcNet_top10k_temptative_2_log.csv"
   ]
  },
  {
   "cell_type": "code",
   "execution_count": null,
   "metadata": {
    "collapsed": true
   },
   "outputs": [],
   "source": []
  }
 ],
 "metadata": {
  "kernelspec": {
   "display_name": "pvle",
   "language": "python",
   "name": "pvle"
  },
  "language_info": {
   "codemirror_mode": {
    "name": "ipython",
    "version": 2
   },
   "file_extension": ".py",
   "mimetype": "text/x-python",
   "name": "python",
   "nbconvert_exporter": "python",
   "pygments_lexer": "ipython2",
   "version": "2.7.5"
  }
 },
 "nbformat": 4,
 "nbformat_minor": 2
}
