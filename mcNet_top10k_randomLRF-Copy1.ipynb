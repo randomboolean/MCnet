{
 "cells": [
  {
   "cell_type": "code",
   "execution_count": 1,
   "metadata": {},
   "outputs": [],
   "source": [
    "import os\n",
    "os.environ['CUDA_VISIBLE_DEVICES'] = '0'"
   ]
  },
  {
   "cell_type": "code",
   "execution_count": 2,
   "metadata": {},
   "outputs": [
    {
     "name": "stderr",
     "output_type": "stream",
     "text": [
      "/home/vle/anaconda3/lib/python3.6/site-packages/h5py/__init__.py:36: FutureWarning: Conversion of the second argument of issubdtype from `float` to `np.floating` is deprecated. In future, it will be treated as `np.float64 == np.dtype(float).type`.\n",
      "  from ._conv import register_converters as _register_converters\n",
      "Using TensorFlow backend.\n"
     ]
    }
   ],
   "source": [
    "from __future__ import print_function\n",
    "\n",
    "import keras\n",
    "from keras.models import Sequential\n",
    "from keras.layers import Conv1D, Dense, Dropout, Flatten, BatchNormalization\n",
    "from keras.callbacks import EarlyStopping, CSVLogger\n",
    "\n",
    "from loader import load_20news\n",
    "from custom_layer import MonteCarloLRF, SeparableMonteCarloLRF, SeparableMonteCarloMaxPoolingV2, RandomLRF\n",
    "\n",
    "import numpy as np\n",
    "import sklearn as sk\n",
    "import pickle"
   ]
  },
  {
   "cell_type": "code",
   "execution_count": 3,
   "metadata": {},
   "outputs": [],
   "source": [
    "top_words=10000\n",
    "sparse=False\n",
    "remove_short_documents=True\n",
    "notebook = 'mcNet_top10k_temptative_42'"
   ]
  },
  {
   "cell_type": "code",
   "execution_count": 4,
   "metadata": {},
   "outputs": [],
   "source": [
    "(input_shape, nb_classes), (X_train, X_test, Y_train, Y_test), graph_data = \\\n",
    "    load_20news(data_home='data', top_words=top_words, sparse=sparse,\n",
    "                remove_short_documents=remove_short_documents, verbose=False)"
   ]
  },
  {
   "cell_type": "code",
   "execution_count": 5,
   "metadata": {},
   "outputs": [],
   "source": [
    "X_train = X_train.reshape(X_train.shape[0], X_train.shape[1], X_train.shape[2])\n",
    "X_test = X_test.reshape(X_test.shape[0], X_test.shape[1], X_test.shape[2])\n",
    "num_classes = Y_train.shape[1]"
   ]
  },
  {
   "cell_type": "code",
   "execution_count": 7,
   "metadata": {},
   "outputs": [
    {
     "name": "stdout",
     "output_type": "stream",
     "text": [
      "CPU times: user 2.3 s, sys: 728 ms, total: 3.03 s\n",
      "Wall time: 3.03 s\n"
     ]
    }
   ],
   "source": [
    "%%time\n",
    "#Process next cell only once\n",
    "path = os.path.join('probabilities_' + \n",
    "                    'top' + str(top_words) +\n",
    "                    '_sparse' + str(sparse) +\n",
    "                    '_removeShorts' + str(remove_short_documents) +\n",
    "                    '.pkl')\n",
    "if os.path.isfile(path):\n",
    "  probabilities = pickle.load(open(path, \"rb\"), encoding='latin1')"
   ]
  },
  {
   "cell_type": "code",
   "execution_count": 8,
   "metadata": {},
   "outputs": [],
   "source": [
    "if not(os.path.isfile(path)):\n",
    "  METRIC = 'cosine'#'euclidean'\n",
    "  distances = sk.metrics.pairwise.pairwise_distances(graph_data, metric=METRIC, n_jobs=-2)\n",
    "\n",
    "  # enforce exact zero\n",
    "  for k in xrange(distances.shape[0]):\n",
    "    distances[k,k] = 0.\n",
    "\n",
    "  # max normalize\n",
    "  #distances /= distances.max()\n",
    "  distances /= distances.max(axis=1).reshape((distances.shape[0], 1))\n",
    "\n",
    "  # use tricube kernel (becaause of flatness around 0)\n",
    "  probabilities = (1. - np.abs(distances) ** 3) ** 3\n",
    "\n",
    "  # remove auto connections (which are taken anyway in LRF)\n",
    "  for k in xrange(probabilities.shape[0]):\n",
    "    probabilities[k,k] = 0.\n",
    "\n",
    "  # normalize proba\n",
    "  probabilities /= np.sum(probabilities, axis=1).reshape((probabilities.shape[0], 1))\n",
    "  \n",
    "  # pickled for later use\n",
    "  pickle.dump(probabilities, open(path,\"wb\"))  "
   ]
  },
  {
   "cell_type": "code",
   "execution_count": 9,
   "metadata": {},
   "outputs": [
    {
     "name": "stdout",
     "output_type": "stream",
     "text": [
      "_________________________________________________________________\n",
      "Layer (type)                 Output Shape              Param #   \n",
      "=================================================================\n",
      "random_lrf_1 (RandomLRF)     (None, 10000, 25)         425       \n",
      "_________________________________________________________________\n",
      "flatten_1 (Flatten)          (None, 250000)            0         \n",
      "_________________________________________________________________\n",
      "dropout_1 (Dropout)          (None, 250000)            0         \n",
      "_________________________________________________________________\n",
      "dense_1 (Dense)              (None, 20)                5000020   \n",
      "=================================================================\n",
      "Total params: 5,000,445\n",
      "Trainable params: 5,000,445\n",
      "Non-trainable params: 0\n",
      "_________________________________________________________________\n"
     ]
    }
   ],
   "source": [
    "batch_size = 128\n",
    "model = Sequential()\n",
    "model.add(RandomLRF(probabilities, LRF_size=16, filters=25, activation='relu',\n",
    "                       input_shape=(X_train.shape[1], X_train.shape[2])))\n",
    "#model.add(Conv1D(1, kernel_size=1, activation='relu',\n",
    "#                 padding='same',kernel_initializer='he_uniform'))\n",
    "#model.add(SeparableMonteCarloMaxPoolingV2(LRF_size=4, new_size=2500))\n",
    "#model.add(Dropout(0.2))\n",
    "model.add(Flatten())\n",
    "#model.add(Dense(500, activation='relu'))\n",
    "model.add(Dropout(0.8))\n",
    "model.add(Dense(num_classes, activation='softmax'))\n",
    "model.summary()"
   ]
  },
  {
   "cell_type": "code",
   "execution_count": 10,
   "metadata": {},
   "outputs": [
    {
     "name": "stdout",
     "output_type": "stream",
     "text": [
      "Train on 10168 samples, validate on 7071 samples\n",
      "Epoch 1/20\n",
      "10168/10168 [==============================] - 6s 555us/step - loss: 2.8423 - acc: 0.2796 - val_loss: 2.6744 - val_acc: 0.4497\n",
      "Epoch 2/20\n",
      "10168/10168 [==============================] - 4s 417us/step - loss: 2.3794 - acc: 0.6125 - val_loss: 2.2946 - val_acc: 0.4900\n",
      "Epoch 3/20\n",
      "10168/10168 [==============================] - 4s 417us/step - loss: 1.8677 - acc: 0.7413 - val_loss: 1.9204 - val_acc: 0.6092\n",
      "Epoch 4/20\n",
      "10168/10168 [==============================] - 4s 418us/step - loss: 1.4097 - acc: 0.8099 - val_loss: 1.6228 - val_acc: 0.6580\n",
      "Epoch 5/20\n",
      "10168/10168 [==============================] - 4s 417us/step - loss: 1.0705 - acc: 0.8538 - val_loss: 1.4317 - val_acc: 0.6798\n",
      "Epoch 6/20\n",
      "10168/10168 [==============================] - 4s 417us/step - loss: 0.8284 - acc: 0.8816 - val_loss: 1.3152 - val_acc: 0.6877\n",
      "Epoch 7/20\n",
      "10168/10168 [==============================] - 4s 418us/step - loss: 0.6667 - acc: 0.9025 - val_loss: 1.2418 - val_acc: 0.6884\n",
      "Epoch 8/20\n",
      "10168/10168 [==============================] - 4s 417us/step - loss: 0.5414 - acc: 0.9174 - val_loss: 1.1849 - val_acc: 0.6996\n",
      "Epoch 9/20\n",
      "10168/10168 [==============================] - 4s 418us/step - loss: 0.4521 - acc: 0.9331 - val_loss: 1.1559 - val_acc: 0.7029\n",
      "Epoch 10/20\n",
      "10168/10168 [==============================] - 4s 418us/step - loss: 0.3793 - acc: 0.9436 - val_loss: 1.1431 - val_acc: 0.6998\n",
      "Epoch 11/20\n",
      "10168/10168 [==============================] - 4s 418us/step - loss: 0.3184 - acc: 0.9557 - val_loss: 1.1294 - val_acc: 0.7015\n",
      "Epoch 12/20\n",
      "10168/10168 [==============================] - 4s 418us/step - loss: 0.2719 - acc: 0.9633 - val_loss: 1.1242 - val_acc: 0.7033\n",
      "Epoch 13/20\n",
      "10168/10168 [==============================] - 4s 418us/step - loss: 0.2339 - acc: 0.9710 - val_loss: 1.1230 - val_acc: 0.7041\n",
      "Epoch 14/20\n",
      "10168/10168 [==============================] - 4s 417us/step - loss: 0.2022 - acc: 0.9754 - val_loss: 1.1292 - val_acc: 0.7039\n",
      "Epoch 15/20\n",
      "10168/10168 [==============================] - 4s 418us/step - loss: 0.1733 - acc: 0.9818 - val_loss: 1.1366 - val_acc: 0.7013\n",
      "Test loss: 1.136605182760862\n",
      "Test accuracy: 0.7013152311249815\n"
     ]
    }
   ],
   "source": [
    "model.compile(loss='categorical_crossentropy',\n",
    "              optimizer='adam',\n",
    "              metrics=['accuracy'])\n",
    "\n",
    "early_stopper = EarlyStopping(min_delta=0.001, patience=2)\n",
    "csv = CSVLogger(notebook + '_log.csv')\n",
    "\n",
    "history = model.fit(X_train, Y_train,\n",
    "                    batch_size=batch_size,\n",
    "                    epochs=20,\n",
    "                    verbose=1,\n",
    "                    #callbacks=[early_stopper, csv],\n",
    "                    validation_data=(X_test, Y_test))\n",
    "score = model.evaluate(X_test, Y_test, verbose=0)\n",
    "\n",
    "print('Test loss:', score[0])\n",
    "print('Test accuracy:', score[1])"
   ]
  },
  {
   "cell_type": "code",
   "execution_count": 11,
   "metadata": {},
   "outputs": [
    {
     "name": "stdout",
     "output_type": "stream",
     "text": [
      "5,0.8815892997170696,0.828352999537128,0.6877386508694702,1.3152040708454473\r\n",
      "6,0.9025373721010191,0.6667481069486034,0.6884457642970371,1.2418389436699953\r\n",
      "7,0.9173878835562549,0.5414071554841252,0.6996181587100012,1.1848604357271244\r\n",
      "8,0.9331235246898432,0.4520701199043088,0.7028708809623454,1.1558573319338417\r\n",
      "9,0.943646734995133,0.37929777361388095,0.6997595814224888,1.1430704626701893\r\n",
      "10,0.9557435090948896,0.31838071144630736,0.7014566538458986,1.1294353204507872\r\n",
      "11,0.9633162863886703,0.27186571333607196,0.7032951492346795,1.1242104254725158\r\n",
      "12,0.9709874115808098,0.23394882282715534,0.704143685374734,1.1229980590741009\r\n",
      "13,0.9754130606291146,0.20216404267364746,0.70386084008463,1.1292391612107946\r\n",
      "14,0.9818056649246336,0.173333864644416,0.7013152311249815,1.1366051992151496\r\n"
     ]
    }
   ],
   "source": [
    "%%bash\n",
    "tail mcNet_top10k_temptative_42_log.csv"
   ]
  },
  {
   "cell_type": "code",
   "execution_count": null,
   "metadata": {},
   "outputs": [],
   "source": []
  }
 ],
 "metadata": {
  "kernelspec": {
   "display_name": "Python 3",
   "language": "python",
   "name": "python3"
  },
  "language_info": {
   "codemirror_mode": {
    "name": "ipython",
    "version": 3
   },
   "file_extension": ".py",
   "mimetype": "text/x-python",
   "name": "python",
   "nbconvert_exporter": "python",
   "pygments_lexer": "ipython3",
   "version": "3.6.5"
  }
 },
 "nbformat": 4,
 "nbformat_minor": 2
}
