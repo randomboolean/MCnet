{
 "cells": [
  {
   "cell_type": "code",
   "execution_count": 1,
   "metadata": {},
   "outputs": [],
   "source": [
    "import os\n",
    "os.environ['CUDA_VISIBLE_DEVICES'] = '1'"
   ]
  },
  {
   "cell_type": "code",
   "execution_count": 2,
   "metadata": {},
   "outputs": [
    {
     "name": "stderr",
     "output_type": "stream",
     "text": [
      "/home/vle/anaconda3/lib/python3.6/site-packages/h5py/__init__.py:36: FutureWarning: Conversion of the second argument of issubdtype from `float` to `np.floating` is deprecated. In future, it will be treated as `np.float64 == np.dtype(float).type`.\n",
      "  from ._conv import register_converters as _register_converters\n",
      "Using TensorFlow backend.\n"
     ]
    }
   ],
   "source": [
    "from __future__ import print_function\n",
    "\n",
    "import keras\n",
    "from keras.models import Sequential\n",
    "from keras.layers import Conv1D, Dense, Dropout, Flatten, BatchNormalization\n",
    "from keras.callbacks import EarlyStopping, CSVLogger\n",
    "\n",
    "from loader import load_20news\n",
    "from custom_layer import MonteCarloLRF, SeparableMonteCarloLRF, SeparableMonteCarloMaxPoolingV2, RandomLRF\n",
    "\n",
    "import numpy as np\n",
    "import sklearn as sk\n",
    "import pickle"
   ]
  },
  {
   "cell_type": "code",
   "execution_count": 3,
   "metadata": {},
   "outputs": [],
   "source": [
    "top_words=10000\n",
    "sparse=False\n",
    "remove_short_documents=True\n",
    "notebook = 'mcNet_top10k_temptative_42'"
   ]
  },
  {
   "cell_type": "code",
   "execution_count": 4,
   "metadata": {},
   "outputs": [],
   "source": [
    "(input_shape, nb_classes), (X_train, X_test, Y_train, Y_test), graph_data = \\\n",
    "    load_20news(data_home='data', top_words=top_words, sparse=sparse,\n",
    "                remove_short_documents=remove_short_documents, verbose=False)"
   ]
  },
  {
   "cell_type": "code",
   "execution_count": 5,
   "metadata": {},
   "outputs": [],
   "source": [
    "X_train = X_train.reshape(X_train.shape[0], X_train.shape[1], X_train.shape[2])\n",
    "X_test = X_test.reshape(X_test.shape[0], X_test.shape[1], X_test.shape[2])\n",
    "num_classes = Y_train.shape[1]"
   ]
  },
  {
   "cell_type": "code",
   "execution_count": 6,
   "metadata": {},
   "outputs": [
    {
     "name": "stdout",
     "output_type": "stream",
     "text": [
      "CPU times: user 57.9 ms, sys: 125 ms, total: 183 ms\n",
      "Wall time: 182 ms\n"
     ]
    }
   ],
   "source": [
    "%%time\n",
    "#Process next cell only once\n",
    "path = os.path.join('probabilities_' + \n",
    "                    'top' + str(top_words) +\n",
    "                    '_sparse' + str(sparse) +\n",
    "                    '_removeShorts' + str(remove_short_documents) +\n",
    "                    '_tfidf.pkl')\n",
    "if os.path.isfile(path):\n",
    "  probabilities = pickle.load(open(path, \"rb\"), encoding='latin1')"
   ]
  },
  {
   "cell_type": "code",
   "execution_count": 7,
   "metadata": {},
   "outputs": [],
   "source": [
    "if not(os.path.isfile(path)):\n",
    "  METRIC = 'cosine'#'euclidean'\n",
    "  distances = sk.metrics.pairwise.pairwise_distances(graph_data, metric=METRIC, n_jobs=-2)\n",
    "\n",
    "  # enforce exact zero\n",
    "  for k in range(distances.shape[0]):\n",
    "    distances[k,k] = 0.\n",
    "\n",
    "  # max normalize\n",
    "  #distances /= distances.max()\n",
    "  distances /= distances.max(axis=1).reshape((distances.shape[0], 1))\n",
    "\n",
    "  # use tricube kernel (because of flatness around 0)\n",
    "  probabilities = (1. - np.abs(distances) ** 3) ** 3\n",
    "\n",
    "  # remove auto connections (which are taken anyway in LRF)\n",
    "  for k in range(probabilities.shape[0]):\n",
    "    probabilities[k,k] = 0.\n",
    "\n",
    "  # normalize proba\n",
    "  probabilities /= np.sum(probabilities, axis=1).reshape((probabilities.shape[0], 1))\n",
    "  \n",
    "  # normalize by neighbour frequency (idf)\n",
    "  probabilities /= np.sum(probabilities, axis=0).reshape((probabilities.shape[0], 1))\n",
    "    \n",
    "  # renormalize proba\n",
    "  probabilities /= np.sum(probabilities, axis=1).reshape((probabilities.shape[0], 1))\n",
    "  \n",
    "  # pickled for later use\n",
    "  pickle.dump(probabilities, open(path,\"wb\"))"
   ]
  },
  {
   "cell_type": "code",
   "execution_count": 8,
   "metadata": {},
   "outputs": [],
   "source": [
    "if True:\n",
    "  probabilities = np.ones(probabilities.shape)\n",
    "\n",
    "  # remove auto connections (which are taken anyway in LRF)\n",
    "  for k in range(probabilities.shape[0]):\n",
    "    probabilities[k,k] = 0.\n",
    "\n",
    "  # renormalize proba\n",
    "  probabilities /= np.sum(probabilities, axis=-1).reshape((probabilities.shape[0], 1))\n",
    "  assert ((np.sum(probabilities, axis=-1) - 1) < 0.000001).all()"
   ]
  },
  {
   "cell_type": "code",
   "execution_count": 9,
   "metadata": {},
   "outputs": [
    {
     "name": "stdout",
     "output_type": "stream",
     "text": [
      "_________________________________________________________________\n",
      "Layer (type)                 Output Shape              Param #   \n",
      "=================================================================\n",
      "random_lrf_1 (RandomLRF)     (None, 10000, 1)          3         \n",
      "_________________________________________________________________\n",
      "dropout_1 (Dropout)          (None, 10000, 1)          0         \n",
      "_________________________________________________________________\n",
      "flatten_1 (Flatten)          (None, 10000)             0         \n",
      "_________________________________________________________________\n",
      "dense_1 (Dense)              (None, 500)               5000500   \n",
      "_________________________________________________________________\n",
      "dropout_2 (Dropout)          (None, 500)               0         \n",
      "_________________________________________________________________\n",
      "dense_2 (Dense)              (None, 20)                10020     \n",
      "=================================================================\n",
      "Total params: 5,010,523\n",
      "Trainable params: 5,010,523\n",
      "Non-trainable params: 0\n",
      "_________________________________________________________________\n"
     ]
    }
   ],
   "source": [
    "batch_size = 64\n",
    "model = Sequential()\n",
    "model.add(RandomLRF(probabilities, LRF_size=2, filters=1, activation='relu',\n",
    "                       input_shape=(X_train.shape[1], X_train.shape[2])))\n",
    "#model.add(BatchNormalization(axis=1))\n",
    "#model.add(Conv1D(1, kernel_size=1, activation='relu',\n",
    "#                 padding='same',kernel_initializer='he_uniform'))\n",
    "#model.add(SeparableMonteCarloMaxPoolingV2(LRF_size=4, new_size=2500))\n",
    "model.add(Dropout(0.2))\n",
    "model.add(Flatten())\n",
    "model.add(Dense(500, activation='relu'))\n",
    "model.add(Dropout(0.2))\n",
    "model.add(Dense(num_classes, activation='softmax'))\n",
    "model.summary()"
   ]
  },
  {
   "cell_type": "code",
   "execution_count": 10,
   "metadata": {},
   "outputs": [
    {
     "name": "stdout",
     "output_type": "stream",
     "text": [
      "Train on 10168 samples, validate on 7071 samples\n",
      "Epoch 1/20\n",
      "10168/10168 [==============================] - 4s 358us/step - loss: 2.8040 - acc: 0.3391 - val_loss: 2.4236 - val_acc: 0.4393\n",
      "Epoch 2/20\n",
      "10168/10168 [==============================] - 2s 216us/step - loss: 1.7681 - acc: 0.6700 - val_loss: 1.4944 - val_acc: 0.6802\n",
      "Epoch 3/20\n",
      "10168/10168 [==============================] - 2s 214us/step - loss: 0.9697 - acc: 0.8084 - val_loss: 1.1472 - val_acc: 0.7071\n",
      "Epoch 4/20\n",
      "10168/10168 [==============================] - 2s 214us/step - loss: 0.6223 - acc: 0.8675 - val_loss: 1.0447 - val_acc: 0.7150\n",
      "Epoch 5/20\n",
      "10168/10168 [==============================] - 2s 214us/step - loss: 0.4255 - acc: 0.9093 - val_loss: 1.0285 - val_acc: 0.7184\n",
      "Epoch 6/20\n",
      "10168/10168 [==============================] - 2s 216us/step - loss: 0.3123 - acc: 0.9335 - val_loss: 1.0241 - val_acc: 0.7200\n",
      "Epoch 7/20\n",
      "10168/10168 [==============================] - 2s 214us/step - loss: 0.2307 - acc: 0.9510 - val_loss: 1.0322 - val_acc: 0.7174\n",
      "Epoch 8/20\n",
      "10168/10168 [==============================] - 2s 214us/step - loss: 0.1742 - acc: 0.9674 - val_loss: 1.0503 - val_acc: 0.7183\n",
      "Test loss: 1.0503242312386694\n",
      "Test accuracy: 0.7182859567499383\n"
     ]
    }
   ],
   "source": [
    "model.compile(loss='categorical_crossentropy',\n",
    "              optimizer='adam',\n",
    "              metrics=['accuracy'])\n",
    "\n",
    "early_stopper = EarlyStopping(min_delta=0.001, patience=2)\n",
    "csv = CSVLogger(notebook + '_log.csv')\n",
    "\n",
    "history = model.fit(X_train, Y_train,\n",
    "                    batch_size=batch_size,\n",
    "                    epochs=20,\n",
    "                    verbose=1,\n",
    "                    callbacks=[early_stopper, csv],\n",
    "                    validation_data=(X_test, Y_test))\n",
    "score = model.evaluate(X_test, Y_test, verbose=0)\n",
    "\n",
    "print('Test loss:', score[0])\n",
    "print('Test accuracy:', score[1])"
   ]
  },
  {
   "cell_type": "code",
   "execution_count": 11,
   "metadata": {},
   "outputs": [
    {
     "name": "stdout",
     "output_type": "stream",
     "text": [
      "epoch,acc,loss,val_acc,val_loss\r\n",
      "0,0.33910306840314347,2.8039873434182323,0.43925894492334394,2.423607136838727\r\n",
      "1,0.6700432729664795,1.7680579985716884,0.6802432469811842,1.494418034676935\r\n",
      "2,0.8084185680566484,0.9697367282574051,0.707113562353833,1.1471810740100126\r\n",
      "3,0.8675255704638903,0.6222516213881509,0.7150332342447107,1.0446805082458601\r\n",
      "4,0.9093233675679102,0.4255000485809275,0.7184273793359842,1.0285227775084822\r\n",
      "5,0.9335169157674236,0.31233567494186804,0.7199830293082193,1.0240958286906348\r\n",
      "6,0.9510228167266755,0.2307115395785691,0.7174374204750126,1.0321892972057232\r\n",
      "7,0.9674468923046493,0.1742295026368836,0.7182859567499383,1.0503242302945708\r\n"
     ]
    }
   ],
   "source": [
    "%%bash\n",
    "tail mcNet_top10k_temptative_42_log.csv"
   ]
  },
  {
   "cell_type": "code",
   "execution_count": null,
   "metadata": {},
   "outputs": [],
   "source": []
  }
 ],
 "metadata": {
  "kernelspec": {
   "display_name": "Python 3",
   "language": "python",
   "name": "python3"
  },
  "language_info": {
   "codemirror_mode": {
    "name": "ipython",
    "version": 3
   },
   "file_extension": ".py",
   "mimetype": "text/x-python",
   "name": "python",
   "nbconvert_exporter": "python",
   "pygments_lexer": "ipython3",
   "version": "3.6.5"
  }
 },
 "nbformat": 4,
 "nbformat_minor": 2
}
