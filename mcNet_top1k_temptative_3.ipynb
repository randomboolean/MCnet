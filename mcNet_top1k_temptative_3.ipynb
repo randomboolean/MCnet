{
 "cells": [
  {
   "cell_type": "code",
   "execution_count": 1,
   "metadata": {
    "collapsed": true
   },
   "outputs": [],
   "source": [
    "import os\n",
    "os.environ['CUDA_VISIBLE_DEVICES'] = '0'"
   ]
  },
  {
   "cell_type": "code",
   "execution_count": 2,
   "metadata": {},
   "outputs": [
    {
     "name": "stderr",
     "output_type": "stream",
     "text": [
      "Using TensorFlow backend.\n"
     ]
    }
   ],
   "source": [
    "from __future__ import print_function\n",
    "\n",
    "import keras\n",
    "from keras.models import Sequential\n",
    "from keras.layers import Conv1D, Dense, Dropout, Flatten\n",
    "\n",
    "from loader import load_20news\n",
    "from custom_layer import MonteCarloLRF\n",
    "\n",
    "import numpy as np\n",
    "import sklearn as sk"
   ]
  },
  {
   "cell_type": "code",
   "execution_count": 3,
   "metadata": {
    "collapsed": true
   },
   "outputs": [],
   "source": [
    "(input_shape, nb_classes), (X_train, X_test, Y_train, Y_test), graph_data = \\\n",
    "    load_20news(data_home='data', top_words=1000, sparse=False, remove_short_documents=True, verbose=False)"
   ]
  },
  {
   "cell_type": "code",
   "execution_count": 4,
   "metadata": {
    "collapsed": true
   },
   "outputs": [],
   "source": [
    "X_train = X_train.reshape(X_train.shape[0], X_train.shape[1], X_train.shape[2])\n",
    "X_test = X_test.reshape(X_test.shape[0], X_test.shape[1], X_test.shape[2])\n",
    "batch_size = 16\n",
    "num_classes = Y_train.shape[1]"
   ]
  },
  {
   "cell_type": "code",
   "execution_count": 5,
   "metadata": {},
   "outputs": [
    {
     "name": "stdout",
     "output_type": "stream",
     "text": [
      "(9922, 1000, 1)\n",
      "(6695, 1000, 1)\n",
      "16 20\n"
     ]
    }
   ],
   "source": [
    "print(X_train.shape)\n",
    "print(X_test.shape)\n",
    "print(batch_size, num_classes)"
   ]
  },
  {
   "cell_type": "code",
   "execution_count": 6,
   "metadata": {
    "collapsed": true
   },
   "outputs": [],
   "source": [
    "METRIC = 'euclidean'\n",
    "distances = sk.metrics.pairwise.pairwise_distances(graph_data, metric=METRIC, n_jobs=-2)\n",
    "\n",
    "# enforce exact zero\n",
    "for k in xrange(distances.shape[0]):\n",
    "  distances[k,k] = 0."
   ]
  },
  {
   "cell_type": "code",
   "execution_count": 7,
   "metadata": {
    "collapsed": true
   },
   "outputs": [],
   "source": [
    "# max normalize\n",
    "distances /= distances.max()\n",
    "\n",
    "# use tricube kernel (becaause of flatness around 0)\n",
    "probabilities = (1. - np.abs(distances) ** 3) ** 3\n",
    "\n",
    "# remove auto connections (which are taken anyway in LRF)\n",
    "for k in xrange(probabilities.shape[0]):\n",
    "  probabilities[k,k] = 0.\n",
    "\n",
    "# normalize proba\n",
    "probabilities /= np.sum(probabilities, axis=1).reshape((probabilities.shape[0], 1))"
   ]
  },
  {
   "cell_type": "code",
   "execution_count": null,
   "metadata": {},
   "outputs": [
    {
     "name": "stdout",
     "output_type": "stream",
     "text": [
      "_________________________________________________________________\n",
      "Layer (type)                 Output Shape              Param #   \n",
      "=================================================================\n",
      "monte_carlo_lrf_1 (MonteCarl (None, 1000, 256)         4352      \n",
      "_________________________________________________________________\n",
      "conv1d_1 (Conv1D)            (None, 1000, 64)          16448     \n",
      "_________________________________________________________________\n",
      "dropout_1 (Dropout)          (None, 1000, 64)          0         \n",
      "_________________________________________________________________\n",
      "flatten_1 (Flatten)          (None, 64000)             0         \n",
      "_________________________________________________________________\n",
      "dense_1 (Dense)              (None, 20)                1280020   \n",
      "_________________________________________________________________\n",
      "dropout_2 (Dropout)          (None, 20)                0         \n",
      "=================================================================\n",
      "Total params: 1,300,820\n",
      "Trainable params: 1,300,820\n",
      "Non-trainable params: 0\n",
      "_________________________________________________________________\n"
     ]
    }
   ],
   "source": [
    "model = Sequential()\n",
    "model.add(MonteCarloLRF(probabilities, LRF_size=16, filters=256, activation='relu',\n",
    "                       input_shape=(X_train.shape[1], X_train.shape[2])))\n",
    "model.add(Conv1D(64, kernel_size=1, activation='relu',\n",
    "                 padding='same',kernel_initializer='he_uniform'))\n",
    "model.add(Dropout(0.2))\n",
    "model.add(Flatten())\n",
    "model.add(Dense(num_classes, activation='softmax'))\n",
    "model.add(Dropout(0.2))\n",
    "model.summary()"
   ]
  },
  {
   "cell_type": "code",
   "execution_count": null,
   "metadata": {},
   "outputs": [
    {
     "name": "stdout",
     "output_type": "stream",
     "text": [
      "Train on 9922 samples, validate on 6695 samples\n",
      "Epoch 1/20\n",
      "9922/9922 [==============================] - 72s - loss: 4.5845 - acc: 0.3808 - val_loss: 1.6246 - val_acc: 0.5401\n",
      "Epoch 2/20\n",
      "9922/9922 [==============================] - 71s - loss: 3.9335 - acc: 0.5852 - val_loss: 1.6175 - val_acc: 0.5492\n",
      "Epoch 3/20\n",
      "9922/9922 [==============================] - 71s - loss: 3.8018 - acc: 0.6312 - val_loss: 1.7270 - val_acc: 0.5350\n",
      "Epoch 4/20\n",
      "9922/9922 [==============================] - 71s - loss: 3.6014 - acc: 0.6648 - val_loss: 1.8597 - val_acc: 0.5346\n",
      "Epoch 5/20\n",
      "9922/9922 [==============================] - 71s - loss: 3.6432 - acc: 0.6785 - val_loss: 1.9920 - val_acc: 0.5340\n",
      "Epoch 6/20\n",
      "9922/9922 [==============================] - 71s - loss: 3.5032 - acc: 0.6972 - val_loss: 2.0746 - val_acc: 0.5270\n",
      "Epoch 7/20\n",
      "9922/9922 [==============================] - 71s - loss: 3.5552 - acc: 0.7091 - val_loss: 2.1806 - val_acc: 0.5252\n",
      "Epoch 8/20\n",
      "9922/9922 [==============================] - 71s - loss: 3.3565 - acc: 0.7305 - val_loss: 2.4019 - val_acc: 0.5184\n",
      "Epoch 9/20\n",
      "9922/9922 [==============================] - 71s - loss: 3.3776 - acc: 0.7340 - val_loss: 2.5763 - val_acc: 0.5222\n",
      "Epoch 10/20\n",
      "9922/9922 [==============================] - 71s - loss: 3.5060 - acc: 0.7410 - val_loss: 2.6853 - val_acc: 0.5187\n",
      "Epoch 11/20\n",
      "9922/9922 [==============================] - 71s - loss: 3.2470 - acc: 0.7654 - val_loss: 2.9046 - val_acc: 0.5096\n",
      "Epoch 12/20\n",
      "9922/9922 [==============================] - 71s - loss: 3.3335 - acc: 0.7665 - val_loss: 3.2429 - val_acc: 0.5111\n",
      "Epoch 13/20\n",
      "9922/9922 [==============================] - 71s - loss: 3.2381 - acc: 0.7789 - val_loss: 3.1997 - val_acc: 0.5087\n",
      "Epoch 14/20\n",
      "9922/9922 [==============================] - 71s - loss: 3.2440 - acc: 0.7814 - val_loss: 3.3325 - val_acc: 0.5110\n",
      "Epoch 15/20\n",
      "9922/9922 [==============================] - 71s - loss: 3.3075 - acc: 0.7771 - val_loss: 3.3392 - val_acc: 0.5125\n",
      "Epoch 16/20\n",
      "9922/9922 [==============================] - 71s - loss: 3.2189 - acc: 0.7890 - val_loss: 3.5883 - val_acc: 0.5150\n",
      "Epoch 17/20\n",
      "9922/9922 [==============================] - 71s - loss: 3.3205 - acc: 0.7836 - val_loss: 3.4985 - val_acc: 0.5080\n",
      "Epoch 18/20\n",
      "9168/9922 [==========================>...] - ETA: 3s - loss: 3.1759 - acc: 0.7948"
     ]
    }
   ],
   "source": [
    "model.compile(loss='categorical_crossentropy',\n",
    "              optimizer='adam',\n",
    "              metrics=['accuracy'])\n",
    "\n",
    "history = model.fit(X_train, Y_train,\n",
    "                    batch_size=batch_size,\n",
    "                    epochs=20,\n",
    "                    verbose=1,\n",
    "                    validation_data=(X_test, Y_test))\n",
    "score = model.evaluate(X_test, Y_test, verbose=0)\n",
    "\n",
    "print('Test loss:', score[0])\n",
    "print('Test accuracy:', score[1])"
   ]
  }
 ],
 "metadata": {
  "kernelspec": {
   "display_name": "pvle",
   "language": "python",
   "name": "pvle"
  },
  "language_info": {
   "codemirror_mode": {
    "name": "ipython",
    "version": 2
   },
   "file_extension": ".py",
   "mimetype": "text/x-python",
   "name": "python",
   "nbconvert_exporter": "python",
   "pygments_lexer": "ipython2",
   "version": "2.7.5"
  }
 },
 "nbformat": 4,
 "nbformat_minor": 2
}
