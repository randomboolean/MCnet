{
 "cells": [
  {
   "cell_type": "code",
   "execution_count": null,
   "metadata": {},
   "outputs": [],
   "source": [
    "%%bash\n",
    "for l in 16 25 100; do\n",
    "  for b in 64 128 256; do\n",
    "    for f in 25 50 100 200; do\n",
    "      for d in '0.5' '0.8' '0.9' '0.95' '0.99'; do\n",
    "        echo -l $l -b $b -f $f -d $d\n",
    "        python -u GS_runnerRandomLRF.py -l $l -b $b -f $f -d $d\n",
    "      done\n",
    "    done\n",
    "  done\n",
    "done"
   ]
  },
  {
   "cell_type": "code",
   "execution_count": null,
   "metadata": {},
   "outputs": [],
   "source": []
  }
 ],
 "metadata": {
  "kernelspec": {
   "display_name": "Python 3",
   "language": "python",
   "name": "python3"
  },
  "language_info": {
   "codemirror_mode": {
    "name": "ipython",
    "version": 3
   },
   "file_extension": ".py",
   "mimetype": "text/x-python",
   "name": "python",
   "nbconvert_exporter": "python",
   "pygments_lexer": "ipython3",
   "version": "3.6.5"
  }
 },
 "nbformat": 4,
 "nbformat_minor": 2
}
