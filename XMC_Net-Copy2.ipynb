{
 "cells": [
  {
   "cell_type": "code",
   "execution_count": 1,
   "metadata": {
    "collapsed": true
   },
   "outputs": [],
   "source": [
    "import os\n",
    "os.environ['CUDA_VISIBLE_DEVICES'] = '1'"
   ]
  },
  {
   "cell_type": "code",
   "execution_count": 2,
   "metadata": {},
   "outputs": [
    {
     "name": "stderr",
     "output_type": "stream",
     "text": [
      "/home/vle/anaconda3/lib/python3.6/site-packages/h5py/__init__.py:36: FutureWarning: Conversion of the second argument of issubdtype from `float` to `np.floating` is deprecated. In future, it will be treated as `np.float64 == np.dtype(float).type`.\n",
      "  from ._conv import register_converters as _register_converters\n",
      "Using TensorFlow backend.\n"
     ]
    }
   ],
   "source": [
    "import keras\n",
    "import tensorflow as tf\n",
    "from keras.backend.tensorflow_backend import set_session\n",
    "config = tf.ConfigProto()\n",
    "config.gpu_options.allow_growth = True  # dynamically grow the memory used on the GPU\n",
    "#config.log_device_placement = True  # to log device placement (on which device the operation ran)\n",
    "                                    # (nothing gets printed in Jupyter, only if you run it standalone)\n",
    "sess = tf.Session(config=config)\n",
    "set_session(sess) "
   ]
  },
  {
   "cell_type": "code",
   "execution_count": 3,
   "metadata": {
    "collapsed": true
   },
   "outputs": [],
   "source": [
    "from __future__ import print_function\n",
    "\n",
    "from keras.models import Sequential, Model\n",
    "from keras.layers import Conv1D, Dense, Dropout, Flatten, BatchNormalization, Input, Concatenate, Add\n",
    "from keras.callbacks import EarlyStopping, CSVLogger\n",
    "\n",
    "from loader import load_20news\n",
    "from custom_layer import MonteCarloLRF, SeparableMonteCarloLRF, SeparableMonteCarloMaxPoolingV2, RandomLRF\n",
    "\n",
    "import numpy as np\n",
    "import sklearn as sk\n",
    "import pickle"
   ]
  },
  {
   "cell_type": "code",
   "execution_count": 4,
   "metadata": {
    "collapsed": true
   },
   "outputs": [],
   "source": [
    "top_words=10000\n",
    "sparse=False\n",
    "remove_short_documents=True\n",
    "notebook = 'mcNet_top10k_temptative_42'"
   ]
  },
  {
   "cell_type": "code",
   "execution_count": 5,
   "metadata": {
    "collapsed": true
   },
   "outputs": [],
   "source": [
    "(input_shape, nb_classes), (X_train, X_test, Y_train, Y_test), graph_data = \\\n",
    "    load_20news(data_home='data', top_words=top_words, sparse=sparse,\n",
    "                remove_short_documents=remove_short_documents, verbose=False)"
   ]
  },
  {
   "cell_type": "code",
   "execution_count": 6,
   "metadata": {
    "collapsed": true
   },
   "outputs": [],
   "source": [
    "X_train = X_train.reshape(X_train.shape[0], X_train.shape[1], X_train.shape[2])\n",
    "X_test = X_test.reshape(X_test.shape[0], X_test.shape[1], X_test.shape[2])\n",
    "num_classes = Y_train.shape[1]"
   ]
  },
  {
   "cell_type": "code",
   "execution_count": 7,
   "metadata": {},
   "outputs": [
    {
     "name": "stdout",
     "output_type": "stream",
     "text": [
      "CPU times: user 1 µs, sys: 0 ns, total: 1 µs\n",
      "Wall time: 4.53 µs\n"
     ]
    }
   ],
   "source": [
    "%%time\n",
    "if False:\n",
    "  #Process next cell only once\n",
    "  path = os.path.join('probabilities_' + \n",
    "                      'top' + str(top_words) +\n",
    "                      '_sparse' + str(sparse) +\n",
    "                      '_removeShorts' + str(remove_short_documents) +\n",
    "                      '_tfidf_bis.pkl')\n",
    "  if os.path.isfile(path):\n",
    "    probabilities = pickle.load(open(path, \"rb\"), encoding='latin1')"
   ]
  },
  {
   "cell_type": "code",
   "execution_count": 8,
   "metadata": {},
   "outputs": [
    {
     "name": "stdout",
     "output_type": "stream",
     "text": [
      "CPU times: user 13.1 s, sys: 1.26 s, total: 14.3 s\n",
      "Wall time: 13.9 s\n"
     ]
    }
   ],
   "source": [
    "%%time\n",
    "#if not(os.path.isfile(path)):\n",
    "if True:\n",
    "  METRIC = 'cosine'#'euclidean'\n",
    "  distances = sk.metrics.pairwise.pairwise_distances(graph_data, metric=METRIC, n_jobs=-2)\n",
    "\n",
    "  # enforce exact zero\n",
    "  for k in range(distances.shape[0]):\n",
    "    distances[k,k] = 0.\n",
    "\n",
    "  # max normalize\n",
    "  #distances /= distances.max()\n",
    "  distances /= distances.max(axis=1).reshape((distances.shape[0], 1))\n",
    "\n",
    "  # use tricube kernel (becaause of flatness around 0)\n",
    "  probabilities = (1. - np.abs(distances) ** 3) ** 3\n",
    "\n",
    "  # remove auto connections (which are taken anyway in LRF)\n",
    "  for k in range(probabilities.shape[0]):\n",
    "    probabilities[k,k] = 0.\n",
    "\n",
    "  # normalize proba\n",
    "  probabilities /= np.sum(probabilities, axis=1).reshape((probabilities.shape[0], 1))\n",
    "  \n",
    "  # pickled for later use\n",
    "  #pickle.dump(probabilities, open(path,\"wb\"))  "
   ]
  },
  {
   "cell_type": "code",
   "execution_count": 9,
   "metadata": {
    "collapsed": true
   },
   "outputs": [],
   "source": [
    "if False:\n",
    "  probabilities = np.ones(probabilities.shape)\n",
    "\n",
    "  # remove auto connections (which are taken anyway in LRF)\n",
    "  for k in range(probabilities.shape[0]):\n",
    "    probabilities[k,k] = 0.\n",
    "\n",
    "  # renormalize proba\n",
    "  probabilities /= np.sum(probabilities, axis=-1).reshape((probabilities.shape[0], 1))\n",
    "  assert ((np.sum(probabilities, axis=-1) - 1) < 0.000001).all()"
   ]
  },
  {
   "cell_type": "code",
   "execution_count": 10,
   "metadata": {},
   "outputs": [
    {
     "name": "stdout",
     "output_type": "stream",
     "text": [
      "__________________________________________________________________________________________________\n",
      "Layer (type)                    Output Shape         Param #     Connected to                     \n",
      "==================================================================================================\n",
      "input_1 (InputLayer)            (None, 10000, 1)     0                                            \n",
      "__________________________________________________________________________________________________\n",
      "separable_monte_carlo_lrf_1 (Se (None, 10000, 1)     3           input_1[0][0]                    \n",
      "__________________________________________________________________________________________________\n",
      "conv1d_1 (Conv1D)               (None, 10000, 64)    128         separable_monte_carlo_lrf_1[0][0]\n",
      "__________________________________________________________________________________________________\n",
      "dropout_1 (Dropout)             (None, 10000, 64)    0           conv1d_1[0][0]                   \n",
      "__________________________________________________________________________________________________\n",
      "conv1d_2 (Conv1D)               (None, 10000, 64)    4160        dropout_1[0][0]                  \n",
      "__________________________________________________________________________________________________\n",
      "dropout_2 (Dropout)             (None, 10000, 64)    0           conv1d_2[0][0]                   \n",
      "__________________________________________________________________________________________________\n",
      "conv1d_3 (Conv1D)               (None, 10000, 1)     65          dropout_2[0][0]                  \n",
      "__________________________________________________________________________________________________\n",
      "add_1 (Add)                     (None, 10000, 1)     0           input_1[0][0]                    \n",
      "                                                                 conv1d_3[0][0]                   \n",
      "__________________________________________________________________________________________________\n",
      "flatten_1 (Flatten)             (None, 10000)        0           add_1[0][0]                      \n",
      "__________________________________________________________________________________________________\n",
      "dense_1 (Dense)                 (None, 500)          5000500     flatten_1[0][0]                  \n",
      "__________________________________________________________________________________________________\n",
      "dropout_3 (Dropout)             (None, 500)          0           dense_1[0][0]                    \n",
      "__________________________________________________________________________________________________\n",
      "dense_2 (Dense)                 (None, 20)           10020       dropout_3[0][0]                  \n",
      "==================================================================================================\n",
      "Total params: 5,014,876\n",
      "Trainable params: 5,014,876\n",
      "Non-trainable params: 0\n",
      "__________________________________________________________________________________________________\n"
     ]
    }
   ],
   "source": [
    "batch_size = 64\n",
    "X = Input(shape=(X_train.shape[1], X_train.shape[2]))\n",
    "\n",
    "H = SeparableMonteCarloLRF(probabilities, LRF_size=2, activation='relu')(X)\n",
    "H = Conv1D(64, kernel_size=1, activation='relu', padding='same') (H)\n",
    "H = Dropout(0.2)(H)\n",
    "#H = Add()([H,X])\n",
    "\n",
    "H2 = SeparableMonteCarloLRF(probabilities, LRF_size=2, activation='relu')(H)\n",
    "H2 = Conv1D(64, kernel_size=1, activation='relu', padding='same') (H)\n",
    "H2 = Dropout(0.2)(H2)\n",
    "\n",
    "H2 = Conv1D(1, kernel_size=1, activation='relu', padding='same') (H2)\n",
    "H2 = Add()([X,H2])\n",
    "\n",
    "\n",
    "L = Flatten()(H2)\n",
    "L = Dense(500, activation='relu')(L)\n",
    "L = Dropout(0.2)(L)\n",
    "Y = Dense(num_classes, activation='softmax')(L)\n",
    "model = Model(inputs=X, outputs=Y)\n",
    "model.summary()"
   ]
  },
  {
   "cell_type": "code",
   "execution_count": 11,
   "metadata": {},
   "outputs": [
    {
     "name": "stdout",
     "output_type": "stream",
     "text": [
      "Train on 10168 samples, validate on 7071 samples\n",
      "Epoch 1/100\n",
      "10168/10168 [==============================] - 47s 5ms/step - loss: 2.7872 - acc: 0.3880 - val_loss: 2.4386 - val_acc: 0.5320\n",
      "Epoch 2/100\n",
      "10168/10168 [==============================] - 45s 4ms/step - loss: 1.8556 - acc: 0.6863 - val_loss: 1.6397 - val_acc: 0.6538\n",
      "Epoch 3/100\n",
      "10168/10168 [==============================] - 44s 4ms/step - loss: 1.1156 - acc: 0.8089 - val_loss: 1.2740 - val_acc: 0.6998\n",
      "Epoch 4/100\n",
      "10168/10168 [==============================] - 44s 4ms/step - loss: 0.7362 - acc: 0.8676 - val_loss: 1.1291 - val_acc: 0.7056\n",
      "Epoch 5/100\n",
      "10168/10168 [==============================] - 44s 4ms/step - loss: 0.5245 - acc: 0.9051 - val_loss: 1.0571 - val_acc: 0.7126\n",
      "Epoch 6/100\n",
      "10168/10168 [==============================] - 45s 4ms/step - loss: 0.3866 - acc: 0.9326 - val_loss: 1.0347 - val_acc: 0.7172\n",
      "Epoch 7/100\n",
      "10168/10168 [==============================] - 44s 4ms/step - loss: 0.2905 - acc: 0.9548 - val_loss: 1.0200 - val_acc: 0.7211\n",
      "Epoch 8/100\n",
      "10168/10168 [==============================] - 44s 4ms/step - loss: 0.2228 - acc: 0.9689 - val_loss: 1.0169 - val_acc: 0.7208\n",
      "Epoch 9/100\n",
      "10168/10168 [==============================] - 44s 4ms/step - loss: 0.1714 - acc: 0.9789 - val_loss: 1.0251 - val_acc: 0.7220\n",
      "Epoch 10/100\n",
      "10168/10168 [==============================] - 44s 4ms/step - loss: 0.1357 - acc: 0.9844 - val_loss: 1.0360 - val_acc: 0.7201\n",
      "Epoch 11/100\n",
      "10168/10168 [==============================] - 44s 4ms/step - loss: 0.1080 - acc: 0.9888 - val_loss: 1.0466 - val_acc: 0.7190\n",
      "Epoch 12/100\n",
      "10168/10168 [==============================] - 44s 4ms/step - loss: 0.0868 - acc: 0.9918 - val_loss: 1.0637 - val_acc: 0.7194\n",
      "Epoch 13/100\n",
      "10168/10168 [==============================] - 44s 4ms/step - loss: 0.0708 - acc: 0.9938 - val_loss: 1.0790 - val_acc: 0.7180\n",
      "Epoch 14/100\n",
      "10168/10168 [==============================] - 44s 4ms/step - loss: 0.0579 - acc: 0.9952 - val_loss: 1.0957 - val_acc: 0.7184\n",
      "Epoch 15/100\n",
      "10168/10168 [==============================] - 44s 4ms/step - loss: 0.0488 - acc: 0.9957 - val_loss: 1.1152 - val_acc: 0.7172\n",
      "Epoch 16/100\n",
      "10168/10168 [==============================] - 44s 4ms/step - loss: 0.0408 - acc: 0.9969 - val_loss: 1.1307 - val_acc: 0.7181\n",
      "Epoch 17/100\n",
      "10168/10168 [==============================] - 44s 4ms/step - loss: 0.0341 - acc: 0.9976 - val_loss: 1.1439 - val_acc: 0.7173\n",
      "Epoch 18/100\n",
      "10168/10168 [==============================] - 44s 4ms/step - loss: 0.0287 - acc: 0.9981 - val_loss: 1.1646 - val_acc: 0.7160\n",
      "Epoch 19/100\n",
      "10168/10168 [==============================] - 44s 4ms/step - loss: 0.0250 - acc: 0.9984 - val_loss: 1.1801 - val_acc: 0.7163\n",
      "Epoch 20/100\n",
      "10168/10168 [==============================] - 44s 4ms/step - loss: 0.0216 - acc: 0.9984 - val_loss: 1.1984 - val_acc: 0.7157\n",
      "Epoch 21/100\n",
      "10168/10168 [==============================] - 44s 4ms/step - loss: 0.0186 - acc: 0.9990 - val_loss: 1.2128 - val_acc: 0.7157\n",
      "Epoch 22/100\n",
      "10168/10168 [==============================] - 45s 4ms/step - loss: 0.0164 - acc: 0.9989 - val_loss: 1.2301 - val_acc: 0.7148\n",
      "Epoch 23/100\n",
      "10168/10168 [==============================] - 44s 4ms/step - loss: 0.0149 - acc: 0.9989 - val_loss: 1.2452 - val_acc: 0.7132\n",
      "Epoch 24/100\n",
      " 9984/10168 [============================>.] - ETA: 0s - loss: 0.0133 - acc: 0.9985"
     ]
    },
    {
     "ename": "KeyboardInterrupt",
     "evalue": "",
     "output_type": "error",
     "traceback": [
      "\u001b[0;31m---------------------------------------------------------------------------\u001b[0m",
      "\u001b[0;31mKeyboardInterrupt\u001b[0m                         Traceback (most recent call last)",
      "\u001b[0;32m<ipython-input-11-ad097438f414>\u001b[0m in \u001b[0;36m<module>\u001b[0;34m()\u001b[0m\n\u001b[1;32m     11\u001b[0m                     \u001b[0mverbose\u001b[0m\u001b[0;34m=\u001b[0m\u001b[0;36m1\u001b[0m\u001b[0;34m,\u001b[0m\u001b[0;34m\u001b[0m\u001b[0m\n\u001b[1;32m     12\u001b[0m                     \u001b[0;31m#callbacks=[early_stopper, csv],\u001b[0m\u001b[0;34m\u001b[0m\u001b[0;34m\u001b[0m\u001b[0m\n\u001b[0;32m---> 13\u001b[0;31m                     validation_data=(X_test, Y_test))\n\u001b[0m\u001b[1;32m     14\u001b[0m \u001b[0mscore\u001b[0m \u001b[0;34m=\u001b[0m \u001b[0mmodel\u001b[0m\u001b[0;34m.\u001b[0m\u001b[0mevaluate\u001b[0m\u001b[0;34m(\u001b[0m\u001b[0mX_test\u001b[0m\u001b[0;34m,\u001b[0m \u001b[0mY_test\u001b[0m\u001b[0;34m,\u001b[0m \u001b[0mverbose\u001b[0m\u001b[0;34m=\u001b[0m\u001b[0;36m0\u001b[0m\u001b[0;34m)\u001b[0m\u001b[0;34m\u001b[0m\u001b[0m\n\u001b[1;32m     15\u001b[0m \u001b[0;34m\u001b[0m\u001b[0m\n",
      "\u001b[0;32m~/anaconda3/lib/python3.6/site-packages/keras/engine/training.py\u001b[0m in \u001b[0;36mfit\u001b[0;34m(self, x, y, batch_size, epochs, verbose, callbacks, validation_split, validation_data, shuffle, class_weight, sample_weight, initial_epoch, steps_per_epoch, validation_steps, **kwargs)\u001b[0m\n\u001b[1;32m   1035\u001b[0m                                         \u001b[0minitial_epoch\u001b[0m\u001b[0;34m=\u001b[0m\u001b[0minitial_epoch\u001b[0m\u001b[0;34m,\u001b[0m\u001b[0;34m\u001b[0m\u001b[0m\n\u001b[1;32m   1036\u001b[0m                                         \u001b[0msteps_per_epoch\u001b[0m\u001b[0;34m=\u001b[0m\u001b[0msteps_per_epoch\u001b[0m\u001b[0;34m,\u001b[0m\u001b[0;34m\u001b[0m\u001b[0m\n\u001b[0;32m-> 1037\u001b[0;31m                                         validation_steps=validation_steps)\n\u001b[0m\u001b[1;32m   1038\u001b[0m \u001b[0;34m\u001b[0m\u001b[0m\n\u001b[1;32m   1039\u001b[0m     def evaluate(self, x=None, y=None,\n",
      "\u001b[0;32m~/anaconda3/lib/python3.6/site-packages/keras/engine/training_arrays.py\u001b[0m in \u001b[0;36mfit_loop\u001b[0;34m(model, f, ins, out_labels, batch_size, epochs, verbose, callbacks, val_f, val_ins, shuffle, callback_metrics, initial_epoch, steps_per_epoch, validation_steps)\u001b[0m\n\u001b[1;32m    197\u001b[0m                     \u001b[0mins_batch\u001b[0m\u001b[0;34m[\u001b[0m\u001b[0mi\u001b[0m\u001b[0;34m]\u001b[0m \u001b[0;34m=\u001b[0m \u001b[0mins_batch\u001b[0m\u001b[0;34m[\u001b[0m\u001b[0mi\u001b[0m\u001b[0;34m]\u001b[0m\u001b[0;34m.\u001b[0m\u001b[0mtoarray\u001b[0m\u001b[0;34m(\u001b[0m\u001b[0;34m)\u001b[0m\u001b[0;34m\u001b[0m\u001b[0m\n\u001b[1;32m    198\u001b[0m \u001b[0;34m\u001b[0m\u001b[0m\n\u001b[0;32m--> 199\u001b[0;31m                 \u001b[0mouts\u001b[0m \u001b[0;34m=\u001b[0m \u001b[0mf\u001b[0m\u001b[0;34m(\u001b[0m\u001b[0mins_batch\u001b[0m\u001b[0;34m)\u001b[0m\u001b[0;34m\u001b[0m\u001b[0m\n\u001b[0m\u001b[1;32m    200\u001b[0m                 \u001b[0mouts\u001b[0m \u001b[0;34m=\u001b[0m \u001b[0mto_list\u001b[0m\u001b[0;34m(\u001b[0m\u001b[0mouts\u001b[0m\u001b[0;34m)\u001b[0m\u001b[0;34m\u001b[0m\u001b[0m\n\u001b[1;32m    201\u001b[0m                 \u001b[0;32mfor\u001b[0m \u001b[0ml\u001b[0m\u001b[0;34m,\u001b[0m \u001b[0mo\u001b[0m \u001b[0;32min\u001b[0m \u001b[0mzip\u001b[0m\u001b[0;34m(\u001b[0m\u001b[0mout_labels\u001b[0m\u001b[0;34m,\u001b[0m \u001b[0mouts\u001b[0m\u001b[0;34m)\u001b[0m\u001b[0;34m:\u001b[0m\u001b[0;34m\u001b[0m\u001b[0m\n",
      "\u001b[0;32m~/anaconda3/lib/python3.6/site-packages/keras/backend/tensorflow_backend.py\u001b[0m in \u001b[0;36m__call__\u001b[0;34m(self, inputs)\u001b[0m\n\u001b[1;32m   2664\u001b[0m                 \u001b[0;32mreturn\u001b[0m \u001b[0mself\u001b[0m\u001b[0;34m.\u001b[0m\u001b[0m_legacy_call\u001b[0m\u001b[0;34m(\u001b[0m\u001b[0minputs\u001b[0m\u001b[0;34m)\u001b[0m\u001b[0;34m\u001b[0m\u001b[0m\n\u001b[1;32m   2665\u001b[0m \u001b[0;34m\u001b[0m\u001b[0m\n\u001b[0;32m-> 2666\u001b[0;31m             \u001b[0;32mreturn\u001b[0m \u001b[0mself\u001b[0m\u001b[0;34m.\u001b[0m\u001b[0m_call\u001b[0m\u001b[0;34m(\u001b[0m\u001b[0minputs\u001b[0m\u001b[0;34m)\u001b[0m\u001b[0;34m\u001b[0m\u001b[0m\n\u001b[0m\u001b[1;32m   2667\u001b[0m         \u001b[0;32melse\u001b[0m\u001b[0;34m:\u001b[0m\u001b[0;34m\u001b[0m\u001b[0m\n\u001b[1;32m   2668\u001b[0m             \u001b[0;32mif\u001b[0m \u001b[0mpy_any\u001b[0m\u001b[0;34m(\u001b[0m\u001b[0mis_tensor\u001b[0m\u001b[0;34m(\u001b[0m\u001b[0mx\u001b[0m\u001b[0;34m)\u001b[0m \u001b[0;32mfor\u001b[0m \u001b[0mx\u001b[0m \u001b[0;32min\u001b[0m \u001b[0minputs\u001b[0m\u001b[0;34m)\u001b[0m\u001b[0;34m:\u001b[0m\u001b[0;34m\u001b[0m\u001b[0m\n",
      "\u001b[0;32m~/anaconda3/lib/python3.6/site-packages/keras/backend/tensorflow_backend.py\u001b[0m in \u001b[0;36m_call\u001b[0;34m(self, inputs)\u001b[0m\n\u001b[1;32m   2634\u001b[0m                                 \u001b[0msymbol_vals\u001b[0m\u001b[0;34m,\u001b[0m\u001b[0;34m\u001b[0m\u001b[0m\n\u001b[1;32m   2635\u001b[0m                                 session)\n\u001b[0;32m-> 2636\u001b[0;31m         \u001b[0mfetched\u001b[0m \u001b[0;34m=\u001b[0m \u001b[0mself\u001b[0m\u001b[0;34m.\u001b[0m\u001b[0m_callable_fn\u001b[0m\u001b[0;34m(\u001b[0m\u001b[0;34m*\u001b[0m\u001b[0marray_vals\u001b[0m\u001b[0;34m)\u001b[0m\u001b[0;34m\u001b[0m\u001b[0m\n\u001b[0m\u001b[1;32m   2637\u001b[0m         \u001b[0;32mreturn\u001b[0m \u001b[0mfetched\u001b[0m\u001b[0;34m[\u001b[0m\u001b[0;34m:\u001b[0m\u001b[0mlen\u001b[0m\u001b[0;34m(\u001b[0m\u001b[0mself\u001b[0m\u001b[0;34m.\u001b[0m\u001b[0moutputs\u001b[0m\u001b[0;34m)\u001b[0m\u001b[0;34m]\u001b[0m\u001b[0;34m\u001b[0m\u001b[0m\n\u001b[1;32m   2638\u001b[0m \u001b[0;34m\u001b[0m\u001b[0m\n",
      "\u001b[0;32m~/anaconda3/lib/python3.6/site-packages/tensorflow/python/client/session.py\u001b[0m in \u001b[0;36m__call__\u001b[0;34m(self, *args)\u001b[0m\n\u001b[1;32m   1449\u001b[0m         \u001b[0;32mif\u001b[0m \u001b[0mself\u001b[0m\u001b[0;34m.\u001b[0m\u001b[0m_session\u001b[0m\u001b[0;34m.\u001b[0m\u001b[0m_created_with_new_api\u001b[0m\u001b[0;34m:\u001b[0m\u001b[0;34m\u001b[0m\u001b[0m\n\u001b[1;32m   1450\u001b[0m           return tf_session.TF_SessionRunCallable(\n\u001b[0;32m-> 1451\u001b[0;31m               self._session._session, self._handle, args, status, None)\n\u001b[0m\u001b[1;32m   1452\u001b[0m         \u001b[0;32melse\u001b[0m\u001b[0;34m:\u001b[0m\u001b[0;34m\u001b[0m\u001b[0m\n\u001b[1;32m   1453\u001b[0m           return tf_session.TF_DeprecatedSessionRunCallable(\n",
      "\u001b[0;31mKeyboardInterrupt\u001b[0m: "
     ]
    }
   ],
   "source": [
    "model.compile(loss='categorical_crossentropy',\n",
    "              optimizer='adam',\n",
    "              metrics=['accuracy'])\n",
    "\n",
    "early_stopper = EarlyStopping(min_delta=0.001, patience=2)\n",
    "csv = CSVLogger(notebook + '_log.csv')\n",
    "\n",
    "history = model.fit(X_train, Y_train,\n",
    "                    batch_size=batch_size,\n",
    "                    epochs=100,\n",
    "                    verbose=1,\n",
    "                    #callbacks=[early_stopper, csv],\n",
    "                    validation_data=(X_test, Y_test))\n",
    "score = model.evaluate(X_test, Y_test, verbose=0)\n",
    "\n",
    "print('Test loss:', score[0])\n",
    "print('Test accuracy:', score[1])"
   ]
  }
 ],
 "metadata": {
  "kernelspec": {
   "display_name": "Python 3",
   "language": "python",
   "name": "python3"
  },
  "language_info": {
   "codemirror_mode": {
    "name": "ipython",
    "version": 3
   },
   "file_extension": ".py",
   "mimetype": "text/x-python",
   "name": "python",
   "nbconvert_exporter": "python",
   "pygments_lexer": "ipython3",
   "version": "3.6.5"
  }
 },
 "nbformat": 4,
 "nbformat_minor": 2
}
