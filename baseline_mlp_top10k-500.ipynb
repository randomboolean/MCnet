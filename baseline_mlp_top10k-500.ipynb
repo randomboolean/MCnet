{
 "cells": [
  {
   "cell_type": "code",
   "execution_count": 1,
   "metadata": {
    "collapsed": true
   },
   "outputs": [],
   "source": [
    "import os\n",
    "os.environ['CUDA_VISIBLE_DEVICES'] = '0'"
   ]
  },
  {
   "cell_type": "code",
   "execution_count": 2,
   "metadata": {},
   "outputs": [
    {
     "name": "stderr",
     "output_type": "stream",
     "text": [
      "Using TensorFlow backend.\n"
     ]
    }
   ],
   "source": [
    "from __future__ import print_function\n",
    "\n",
    "import keras\n",
    "from keras.models import Sequential\n",
    "from keras.layers import Dense, Dropout\n",
    "\n",
    "from loader import load_20news"
   ]
  },
  {
   "cell_type": "code",
   "execution_count": 3,
   "metadata": {},
   "outputs": [],
   "source": [
    "(input_shape, nb_classes), (X_train, X_test, Y_train, Y_test), graph_data = \\\n",
    "    load_20news(data_home='data', top_words=10000, sparse=False, remove_short_documents=True, verbose=False)"
   ]
  },
  {
   "cell_type": "code",
   "execution_count": 4,
   "metadata": {
    "collapsed": true
   },
   "outputs": [],
   "source": [
    "X_train = X_train.reshape(X_train.shape[0], X_train.shape[1] * X_train.shape[2])\n",
    "X_test = X_test.reshape(X_test.shape[0], X_test.shape[1] * X_test.shape[2])\n",
    "batch_size = 64\n",
    "num_classes = Y_train.shape[1]"
   ]
  },
  {
   "cell_type": "code",
   "execution_count": 5,
   "metadata": {},
   "outputs": [
    {
     "name": "stdout",
     "output_type": "stream",
     "text": [
      "(10168, 10000)\n",
      "(7071, 10000)\n",
      "64 20\n"
     ]
    }
   ],
   "source": [
    "print(X_train.shape)\n",
    "print(X_test.shape)\n",
    "print(batch_size, num_classes)"
   ]
  },
  {
   "cell_type": "code",
   "execution_count": 6,
   "metadata": {},
   "outputs": [
    {
     "name": "stdout",
     "output_type": "stream",
     "text": [
      "_________________________________________________________________\n",
      "Layer (type)                 Output Shape              Param #   \n",
      "=================================================================\n",
      "dense_1 (Dense)              (None, 500)               5000500   \n",
      "_________________________________________________________________\n",
      "dropout_1 (Dropout)          (None, 500)               0         \n",
      "_________________________________________________________________\n",
      "dense_2 (Dense)              (None, 20)                10020     \n",
      "=================================================================\n",
      "Total params: 5,010,520\n",
      "Trainable params: 5,010,520\n",
      "Non-trainable params: 0\n",
      "_________________________________________________________________\n"
     ]
    }
   ],
   "source": [
    "model = Sequential()\n",
    "model.add(Dense(500, activation='relu', input_shape=(X_train.shape[1],)))\n",
    "model.add(Dropout(0.2))\n",
    "#model.add(Dense(500, activation='relu'))\n",
    "#model.add(Dropout(0.2))\n",
    "model.add(Dense(num_classes, activation='softmax'))\n",
    "model.summary()"
   ]
  },
  {
   "cell_type": "code",
   "execution_count": 7,
   "metadata": {},
   "outputs": [
    {
     "name": "stdout",
     "output_type": "stream",
     "text": [
      "Train on 10168 samples, validate on 7071 samples\n",
      "Epoch 1/20\n",
      "10168/10168 [==============================] - 10s - loss: 2.7816 - acc: 0.3920 - val_loss: 2.4311 - val_acc: 0.5367\n",
      "Epoch 2/20\n",
      "10168/10168 [==============================] - 10s - loss: 1.8497 - acc: 0.6866 - val_loss: 1.6321 - val_acc: 0.6597\n",
      "Epoch 3/20\n",
      "10168/10168 [==============================] - 10s - loss: 1.1066 - acc: 0.8150 - val_loss: 1.2669 - val_acc: 0.6988\n",
      "Epoch 4/20\n",
      "10168/10168 [==============================] - 10s - loss: 0.7266 - acc: 0.8708 - val_loss: 1.1188 - val_acc: 0.7109\n",
      "Epoch 5/20\n",
      "10168/10168 [==============================] - 10s - loss: 0.5140 - acc: 0.9113 - val_loss: 1.0552 - val_acc: 0.7149\n",
      "Epoch 6/20\n",
      "10168/10168 [==============================] - 10s - loss: 0.3785 - acc: 0.9361 - val_loss: 1.0240 - val_acc: 0.7200\n",
      "Epoch 7/20\n",
      "10168/10168 [==============================] - 10s - loss: 0.2849 - acc: 0.9543 - val_loss: 1.0172 - val_acc: 0.7196\n",
      "Epoch 8/20\n",
      "10168/10168 [==============================] - 10s - loss: 0.2175 - acc: 0.9712 - val_loss: 1.0176 - val_acc: 0.7189\n",
      "Epoch 9/20\n",
      "10168/10168 [==============================] - 10s - loss: 0.1684 - acc: 0.9792 - val_loss: 1.0210 - val_acc: 0.7214\n",
      "Epoch 10/20\n",
      "10168/10168 [==============================] - 10s - loss: 0.1329 - acc: 0.9843 - val_loss: 1.0340 - val_acc: 0.7193\n",
      "Epoch 11/20\n",
      "10168/10168 [==============================] - 10s - loss: 0.1053 - acc: 0.9890 - val_loss: 1.0469 - val_acc: 0.7190\n",
      "Epoch 12/20\n",
      "10168/10168 [==============================] - 10s - loss: 0.0843 - acc: 0.9928 - val_loss: 1.0645 - val_acc: 0.7180\n",
      "Epoch 13/20\n",
      "10168/10168 [==============================] - 11s - loss: 0.0684 - acc: 0.9940 - val_loss: 1.0769 - val_acc: 0.7184\n",
      "Epoch 14/20\n",
      "10168/10168 [==============================] - 10s - loss: 0.0559 - acc: 0.9955 - val_loss: 1.0906 - val_acc: 0.7186\n",
      "Epoch 15/20\n",
      "10168/10168 [==============================] - 10s - loss: 0.0465 - acc: 0.9968 - val_loss: 1.1123 - val_acc: 0.7174\n",
      "Epoch 16/20\n",
      "10168/10168 [==============================] - 10s - loss: 0.0402 - acc: 0.9971 - val_loss: 1.1272 - val_acc: 0.7152\n",
      "Epoch 17/20\n",
      "10168/10168 [==============================] - 10s - loss: 0.0335 - acc: 0.9978 - val_loss: 1.1449 - val_acc: 0.7153\n",
      "Epoch 18/20\n",
      "10168/10168 [==============================] - 10s - loss: 0.0284 - acc: 0.9977 - val_loss: 1.1589 - val_acc: 0.7149\n",
      "Epoch 19/20\n",
      "10168/10168 [==============================] - 10s - loss: 0.0246 - acc: 0.9982 - val_loss: 1.1784 - val_acc: 0.7138\n",
      "Epoch 20/20\n",
      "10168/10168 [==============================] - 10s - loss: 0.0211 - acc: 0.9988 - val_loss: 1.1977 - val_acc: 0.7131\n",
      "Test loss: 1.19766509511\n",
      "Test accuracy: 0.713053316388\n"
     ]
    }
   ],
   "source": [
    "model.compile(loss='categorical_crossentropy',\n",
    "              optimizer='adam',\n",
    "              metrics=['accuracy'])\n",
    "\n",
    "history = model.fit(X_train, Y_train,\n",
    "                    batch_size=batch_size,\n",
    "                    epochs=20,\n",
    "                    verbose=1,\n",
    "                    validation_data=(X_test, Y_test))\n",
    "score = model.evaluate(X_test, Y_test, verbose=0)\n",
    "\n",
    "print('Test loss:', score[0])\n",
    "print('Test accuracy:', score[1])"
   ]
  }
 ],
 "metadata": {
  "kernelspec": {
   "display_name": "pvle",
   "language": "python",
   "name": "pvle"
  },
  "language_info": {
   "codemirror_mode": {
    "name": "ipython",
    "version": 2
   },
   "file_extension": ".py",
   "mimetype": "text/x-python",
   "name": "python",
   "nbconvert_exporter": "python",
   "pygments_lexer": "ipython2",
   "version": "2.7.5"
  }
 },
 "nbformat": 4,
 "nbformat_minor": 2
}
