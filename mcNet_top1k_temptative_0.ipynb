{
 "cells": [
  {
   "cell_type": "code",
   "execution_count": 1,
   "metadata": {
    "collapsed": true
   },
   "outputs": [],
   "source": [
    "import os\n",
    "os.environ['CUDA_VISIBLE_DEVICES'] = '0'"
   ]
  },
  {
   "cell_type": "code",
   "execution_count": 2,
   "metadata": {},
   "outputs": [
    {
     "name": "stderr",
     "output_type": "stream",
     "text": [
      "Using TensorFlow backend.\n"
     ]
    }
   ],
   "source": [
    "from __future__ import print_function\n",
    "\n",
    "import keras\n",
    "from keras.models import Sequential\n",
    "from keras.layers import Conv1D, Dense, Dropout, Flatten\n",
    "\n",
    "from loader import load_20news\n",
    "from custom_layer import SeparableMonteCarloLRF, MonteCarloLRF\n",
    "\n",
    "import numpy as np\n",
    "import sklearn as sk"
   ]
  },
  {
   "cell_type": "code",
   "execution_count": 3,
   "metadata": {
    "collapsed": true
   },
   "outputs": [],
   "source": [
    "(input_shape, nb_classes), (X_train, X_test, Y_train, Y_test), graph_data = \\\n",
    "    load_20news(data_home='data', top_words=1000, sparse=False, remove_short_documents=True, verbose=False)"
   ]
  },
  {
   "cell_type": "code",
   "execution_count": 4,
   "metadata": {
    "collapsed": true
   },
   "outputs": [],
   "source": [
    "X_train = X_train.reshape(X_train.shape[0], X_train.shape[1], X_train.shape[2])\n",
    "X_test = X_test.reshape(X_test.shape[0], X_test.shape[1], X_test.shape[2])\n",
    "batch_size = 64\n",
    "num_classes = Y_train.shape[1]"
   ]
  },
  {
   "cell_type": "code",
   "execution_count": 5,
   "metadata": {},
   "outputs": [
    {
     "name": "stdout",
     "output_type": "stream",
     "text": [
      "(9922, 1000, 1)\n",
      "(6695, 1000, 1)\n",
      "64 20\n"
     ]
    }
   ],
   "source": [
    "print(X_train.shape)\n",
    "print(X_test.shape)\n",
    "print(batch_size, num_classes)"
   ]
  },
  {
   "cell_type": "code",
   "execution_count": 6,
   "metadata": {
    "collapsed": true
   },
   "outputs": [],
   "source": [
    "METRIC = 'euclidean'\n",
    "distances = sk.metrics.pairwise.pairwise_distances(graph_data, metric=METRIC, n_jobs=-2)\n",
    "\n",
    "# enforce exact zero\n",
    "for k in xrange(distances.shape[0]):\n",
    "  distances[k,k] = 0."
   ]
  },
  {
   "cell_type": "code",
   "execution_count": 7,
   "metadata": {},
   "outputs": [],
   "source": [
    "# max normalize\n",
    "distances /= distances.max()\n",
    "\n",
    "# use tricube kernel (becaause of flatness around 0)\n",
    "probabilities = (1. - np.abs(distances) ** 3) ** 3\n",
    "\n",
    "# remove auto connections (which are taken anyway in LRF)\n",
    "for k in xrange(probabilities.shape[0]):\n",
    "  probabilities[k,k] = 0.\n",
    "\n",
    "# normalize proba\n",
    "probabilities /= np.sum(probabilities, axis=1).reshape((probabilities.shape[0], 1))"
   ]
  },
  {
   "cell_type": "code",
   "execution_count": 8,
   "metadata": {},
   "outputs": [
    {
     "name": "stdout",
     "output_type": "stream",
     "text": [
      "_________________________________________________________________\n",
      "Layer (type)                 Output Shape              Param #   \n",
      "=================================================================\n",
      "conv1d_1 (Conv1D)            (None, 1000, 512)         1024      \n",
      "_________________________________________________________________\n",
      "dropout_1 (Dropout)          (None, 1000, 512)         0         \n",
      "_________________________________________________________________\n",
      "monte_carlo_lrf_1 (MonteCarl (None, 1000, 512)         5120      \n",
      "_________________________________________________________________\n",
      "conv1d_2 (Conv1D)            (None, 1000, 1)           513       \n",
      "_________________________________________________________________\n",
      "dropout_2 (Dropout)          (None, 1000, 1)           0         \n",
      "_________________________________________________________________\n",
      "flatten_1 (Flatten)          (None, 1000)              0         \n",
      "_________________________________________________________________\n",
      "dense_1 (Dense)              (None, 20)                20020     \n",
      "=================================================================\n",
      "Total params: 26,677\n",
      "Trainable params: 26,677\n",
      "Non-trainable params: 0\n",
      "_________________________________________________________________\n"
     ]
    }
   ],
   "source": [
    "model = Sequential()\n",
    "model.add(Conv1D(124, kernel_size=1, activation='relu',\n",
    "                 padding='same',kernel_initializer='he_uniform',\n",
    "                 input_shape=(X_train.shape[1], X_train.shape[2])))\n",
    "model.add(Dropout(0.2))\n",
    "model.add(SeparableMonteCarloLRF(probabilities, LRF_size=9, activation='relu'))\n",
    "model.add(Conv1D(1, kernel_size=1, activation='relu',\n",
    "                 padding='same',kernel_initializer='he_uniform'))\n",
    "model.add(Dropout(0.2))\n",
    "model.add(Flatten())\n",
    "model.add(Dense(num_classes, activation='softmax'))\n",
    "model.summary()"
   ]
  },
  {
   "cell_type": "code",
   "execution_count": 9,
   "metadata": {},
   "outputs": [
    {
     "name": "stdout",
     "output_type": "stream",
     "text": [
      "Train on 9922 samples, validate on 6695 samples\n",
      "Epoch 1/20\n",
      "9922/9922 [==============================] - 151s - loss: 2.9625 - acc: 0.0920 - val_loss: 2.9125 - val_acc: 0.1325\n",
      "Epoch 2/20\n",
      "9922/9922 [==============================] - 149s - loss: 2.7787 - acc: 0.2009 - val_loss: 2.5790 - val_acc: 0.2674\n",
      "Epoch 3/20\n",
      "9922/9922 [==============================] - 149s - loss: 2.0767 - acc: 0.4307 - val_loss: 1.8521 - val_acc: 0.4875\n",
      "Epoch 4/20\n",
      "9922/9922 [==============================] - 149s - loss: 1.4687 - acc: 0.5791 - val_loss: 1.6703 - val_acc: 0.5280\n",
      "Epoch 5/20\n",
      "9922/9922 [==============================] - 149s - loss: 1.2341 - acc: 0.6316 - val_loss: 1.6368 - val_acc: 0.5383\n",
      "Epoch 6/20\n",
      "9922/9922 [==============================] - 149s - loss: 1.0923 - acc: 0.6702 - val_loss: 1.6376 - val_acc: 0.5464\n",
      "Epoch 7/20\n",
      "9922/9922 [==============================] - 149s - loss: 0.9887 - acc: 0.6976 - val_loss: 1.6559 - val_acc: 0.5518\n",
      "Epoch 8/20\n",
      "9922/9922 [==============================] - 149s - loss: 0.9190 - acc: 0.7149 - val_loss: 1.6598 - val_acc: 0.5494\n",
      "Epoch 9/20\n",
      "9922/9922 [==============================] - 149s - loss: 0.8740 - acc: 0.7220 - val_loss: 1.6801 - val_acc: 0.5462\n",
      "Epoch 10/20\n",
      "9922/9922 [==============================] - 149s - loss: 0.8345 - acc: 0.7356 - val_loss: 1.7529 - val_acc: 0.5479\n",
      "Epoch 11/20\n",
      "9922/9922 [==============================] - 149s - loss: 0.7869 - acc: 0.7489 - val_loss: 1.7441 - val_acc: 0.5450\n",
      "Epoch 12/20\n",
      "9922/9922 [==============================] - 149s - loss: 0.7542 - acc: 0.7558 - val_loss: 1.7551 - val_acc: 0.5441\n",
      "Epoch 13/20\n",
      "9922/9922 [==============================] - 149s - loss: 0.7441 - acc: 0.7541 - val_loss: 1.7822 - val_acc: 0.5441\n",
      "Epoch 14/20\n",
      "9922/9922 [==============================] - 149s - loss: 0.7176 - acc: 0.7629 - val_loss: 1.8369 - val_acc: 0.5455\n",
      "Epoch 15/20\n",
      "9922/9922 [==============================] - 149s - loss: 0.7027 - acc: 0.7688 - val_loss: 1.8437 - val_acc: 0.5452\n",
      "Epoch 16/20\n",
      "9922/9922 [==============================] - 149s - loss: 0.6726 - acc: 0.7749 - val_loss: 1.8919 - val_acc: 0.5423\n",
      "Epoch 17/20\n",
      "9922/9922 [==============================] - 149s - loss: 0.6640 - acc: 0.7753 - val_loss: 1.9305 - val_acc: 0.5417\n",
      "Epoch 18/20\n",
      "9922/9922 [==============================] - 149s - loss: 0.6482 - acc: 0.7842 - val_loss: 1.9783 - val_acc: 0.5414\n",
      "Epoch 19/20\n",
      "9922/9922 [==============================] - 149s - loss: 0.6558 - acc: 0.7803 - val_loss: 1.9511 - val_acc: 0.5380\n",
      "Epoch 20/20\n",
      "9922/9922 [==============================] - 149s - loss: 0.6296 - acc: 0.7903 - val_loss: 1.9594 - val_acc: 0.5386\n",
      "Test loss: 1.95936547978\n",
      "Test accuracy: 0.538610903673\n"
     ]
    }
   ],
   "source": [
    "model.compile(loss='categorical_crossentropy',\n",
    "              optimizer='adam',\n",
    "              metrics=['accuracy'])\n",
    "\n",
    "history = model.fit(X_train, Y_train,\n",
    "                    batch_size=batch_size,\n",
    "                    epochs=20,\n",
    "                    verbose=1,\n",
    "                    validation_data=(X_test, Y_test))\n",
    "score = model.evaluate(X_test, Y_test, verbose=0)\n",
    "\n",
    "print('Test loss:', score[0])\n",
    "print('Test accuracy:', score[1])"
   ]
  }
 ],
 "metadata": {
  "kernelspec": {
   "display_name": "pvle",
   "language": "python",
   "name": "pvle"
  },
  "language_info": {
   "codemirror_mode": {
    "name": "ipython",
    "version": 2
   },
   "file_extension": ".py",
   "mimetype": "text/x-python",
   "name": "python",
   "nbconvert_exporter": "python",
   "pygments_lexer": "ipython2",
   "version": "2.7.5"
  }
 },
 "nbformat": 4,
 "nbformat_minor": 2
}
