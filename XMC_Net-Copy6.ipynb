{
 "cells": [
  {
   "cell_type": "code",
   "execution_count": 1,
   "metadata": {
    "collapsed": true
   },
   "outputs": [],
   "source": [
    "import os\n",
    "os.environ['CUDA_VISIBLE_DEVICES'] = '1'"
   ]
  },
  {
   "cell_type": "code",
   "execution_count": 2,
   "metadata": {},
   "outputs": [
    {
     "name": "stderr",
     "output_type": "stream",
     "text": [
      "/home/vle/anaconda3/lib/python3.6/site-packages/h5py/__init__.py:36: FutureWarning: Conversion of the second argument of issubdtype from `float` to `np.floating` is deprecated. In future, it will be treated as `np.float64 == np.dtype(float).type`.\n",
      "  from ._conv import register_converters as _register_converters\n",
      "Using TensorFlow backend.\n"
     ]
    }
   ],
   "source": [
    "import keras\n",
    "import tensorflow as tf\n",
    "from keras.backend.tensorflow_backend import set_session\n",
    "config = tf.ConfigProto()\n",
    "config.gpu_options.allow_growth = True  # dynamically grow the memory used on the GPU\n",
    "#config.log_device_placement = True  # to log device placement (on which device the operation ran)\n",
    "                                    # (nothing gets printed in Jupyter, only if you run it standalone)\n",
    "sess = tf.Session(config=config)\n",
    "set_session(sess) "
   ]
  },
  {
   "cell_type": "code",
   "execution_count": 3,
   "metadata": {
    "collapsed": true
   },
   "outputs": [],
   "source": [
    "from __future__ import print_function\n",
    "\n",
    "from keras.models import Sequential, Model\n",
    "from keras.layers import Conv1D, Dense, Dropout, Flatten, BatchNormalization, Input, Concatenate, Add\n",
    "from keras.callbacks import EarlyStopping, CSVLogger\n",
    "\n",
    "from loader import load_20news\n",
    "from custom_layer import MonteCarloLRF, SeparableMonteCarloLRF, SeparableMonteCarloMaxPoolingV2, RandomLRF\n",
    "\n",
    "import numpy as np\n",
    "import sklearn as sk\n",
    "import pickle"
   ]
  },
  {
   "cell_type": "code",
   "execution_count": 4,
   "metadata": {
    "collapsed": true
   },
   "outputs": [],
   "source": [
    "top_words=10000\n",
    "sparse=False\n",
    "remove_short_documents=True\n",
    "notebook = 'mcNet_top10k_temptative_42'"
   ]
  },
  {
   "cell_type": "code",
   "execution_count": 5,
   "metadata": {
    "collapsed": true
   },
   "outputs": [],
   "source": [
    "(input_shape, nb_classes), (X_train, X_test, Y_train, Y_test), graph_data = \\\n",
    "    load_20news(data_home='data', top_words=top_words, sparse=sparse,\n",
    "                remove_short_documents=remove_short_documents, verbose=False)"
   ]
  },
  {
   "cell_type": "code",
   "execution_count": 6,
   "metadata": {
    "collapsed": true
   },
   "outputs": [],
   "source": [
    "X_train = X_train.reshape(X_train.shape[0], X_train.shape[1], X_train.shape[2])\n",
    "X_test = X_test.reshape(X_test.shape[0], X_test.shape[1], X_test.shape[2])\n",
    "num_classes = Y_train.shape[1]"
   ]
  },
  {
   "cell_type": "code",
   "execution_count": 7,
   "metadata": {},
   "outputs": [
    {
     "name": "stdout",
     "output_type": "stream",
     "text": [
      "CPU times: user 2 µs, sys: 1e+03 ns, total: 3 µs\n",
      "Wall time: 4.53 µs\n"
     ]
    }
   ],
   "source": [
    "%%time\n",
    "if False:\n",
    "  #Process next cell only once\n",
    "  path = os.path.join('probabilities_' + \n",
    "                      'top' + str(top_words) +\n",
    "                      '_sparse' + str(sparse) +\n",
    "                      '_removeShorts' + str(remove_short_documents) +\n",
    "                      '_tfidf_bis.pkl')\n",
    "  if os.path.isfile(path):\n",
    "    probabilities = pickle.load(open(path, \"rb\"), encoding='latin1')"
   ]
  },
  {
   "cell_type": "code",
   "execution_count": 8,
   "metadata": {},
   "outputs": [
    {
     "name": "stdout",
     "output_type": "stream",
     "text": [
      "CPU times: user 13.4 s, sys: 1.35 s, total: 14.7 s\n",
      "Wall time: 14.5 s\n"
     ]
    }
   ],
   "source": [
    "%%time\n",
    "#if not(os.path.isfile(path)):\n",
    "if True:\n",
    "  METRIC = 'cosine'#'euclidean'\n",
    "  distances = sk.metrics.pairwise.pairwise_distances(graph_data, metric=METRIC, n_jobs=-2)\n",
    "\n",
    "  # enforce exact zero\n",
    "  for k in range(distances.shape[0]):\n",
    "    distances[k,k] = 0.\n",
    "\n",
    "  # max normalize\n",
    "  #distances /= distances.max()\n",
    "  distances /= distances.max(axis=1).reshape((distances.shape[0], 1))\n",
    "\n",
    "  # use tricube kernel (becaause of flatness around 0)\n",
    "  probabilities = (1. - np.abs(distances) ** 3) ** 3\n",
    "\n",
    "  # remove auto connections (which are taken anyway in LRF)\n",
    "  for k in range(probabilities.shape[0]):\n",
    "    probabilities[k,k] = 0.\n",
    "\n",
    "  # normalize proba\n",
    "  probabilities /= np.sum(probabilities, axis=1).reshape((probabilities.shape[0], 1))\n",
    "  \n",
    "  # pickled for later use\n",
    "  #pickle.dump(probabilities, open(path,\"wb\"))  "
   ]
  },
  {
   "cell_type": "code",
   "execution_count": 9,
   "metadata": {
    "collapsed": true
   },
   "outputs": [],
   "source": [
    "if False:\n",
    "  probabilities = np.ones(probabilities.shape)\n",
    "\n",
    "  # remove auto connections (which are taken anyway in LRF)\n",
    "  for k in range(probabilities.shape[0]):\n",
    "    probabilities[k,k] = 0.\n",
    "\n",
    "  # renormalize proba\n",
    "  probabilities /= np.sum(probabilities, axis=-1).reshape((probabilities.shape[0], 1))\n",
    "  assert ((np.sum(probabilities, axis=-1) - 1) < 0.000001).all()"
   ]
  },
  {
   "cell_type": "code",
   "execution_count": 10,
   "metadata": {},
   "outputs": [
    {
     "name": "stdout",
     "output_type": "stream",
     "text": [
      "__________________________________________________________________________________________________\n",
      "Layer (type)                    Output Shape         Param #     Connected to                     \n",
      "==================================================================================================\n",
      "input_1 (InputLayer)            (None, 10000, 1)     0                                            \n",
      "__________________________________________________________________________________________________\n",
      "separable_monte_carlo_lrf_1 (Se (None, 10000, 1)     3           input_1[0][0]                    \n",
      "__________________________________________________________________________________________________\n",
      "conv1d_1 (Conv1D)               (None, 10000, 64)    128         separable_monte_carlo_lrf_1[0][0]\n",
      "__________________________________________________________________________________________________\n",
      "dropout_1 (Dropout)             (None, 10000, 64)    0           conv1d_1[0][0]                   \n",
      "__________________________________________________________________________________________________\n",
      "conv1d_2 (Conv1D)               (None, 10000, 64)    4160        dropout_1[0][0]                  \n",
      "__________________________________________________________________________________________________\n",
      "dropout_2 (Dropout)             (None, 10000, 64)    0           conv1d_2[0][0]                   \n",
      "__________________________________________________________________________________________________\n",
      "conv1d_3 (Conv1D)               (None, 10000, 1)     65          dropout_2[0][0]                  \n",
      "__________________________________________________________________________________________________\n",
      "add_1 (Add)                     (None, 10000, 1)     0           input_1[0][0]                    \n",
      "                                                                 conv1d_3[0][0]                   \n",
      "__________________________________________________________________________________________________\n",
      "flatten_1 (Flatten)             (None, 10000)        0           add_1[0][0]                      \n",
      "__________________________________________________________________________________________________\n",
      "dense_1 (Dense)                 (None, 500)          5000500     flatten_1[0][0]                  \n",
      "__________________________________________________________________________________________________\n",
      "dropout_3 (Dropout)             (None, 500)          0           dense_1[0][0]                    \n",
      "__________________________________________________________________________________________________\n",
      "dense_2 (Dense)                 (None, 20)           10020       dropout_3[0][0]                  \n",
      "==================================================================================================\n",
      "Total params: 5,014,876\n",
      "Trainable params: 5,014,876\n",
      "Non-trainable params: 0\n",
      "__________________________________________________________________________________________________\n"
     ]
    }
   ],
   "source": [
    "batch_size = 64\n",
    "X = Input(shape=(X_train.shape[1], X_train.shape[2]))\n",
    "\n",
    "H = SeparableMonteCarloLRF(probabilities, LRF_size=2, activation='relu', kernel_initializer = 'glorot_normal')(X)\n",
    "H = Conv1D(64, kernel_size=1, activation='relu', padding='same') (H)\n",
    "H = Dropout(0.2)(H)\n",
    "#H = Add()([H,X])\n",
    "\n",
    "H2 = SeparableMonteCarloLRF(probabilities, LRF_size=2, activation='relu', kernel_initializer = 'glorot_normal')(H)\n",
    "H2 = Conv1D(64, kernel_size=1, activation='relu', padding='same') (H)\n",
    "H2 = Dropout(0.2)(H2)\n",
    "\n",
    "H2 = Conv1D(1, kernel_size=1, activation='relu', padding='same') (H2)\n",
    "H2 = Add()([X,H2])\n",
    "\n",
    "\n",
    "L = Flatten()(H2)\n",
    "L = Dense(500, activation='relu')(L)\n",
    "L = Dropout(0.2)(L)\n",
    "Y = Dense(num_classes, activation='softmax')(L)\n",
    "model = Model(inputs=X, outputs=Y)\n",
    "model.summary()"
   ]
  },
  {
   "cell_type": "code",
   "execution_count": 11,
   "metadata": {},
   "outputs": [
    {
     "name": "stdout",
     "output_type": "stream",
     "text": [
      "Train on 10168 samples, validate on 7071 samples\n",
      "Epoch 1/10\n",
      "10168/10168 [==============================] - 37s 4ms/step - loss: 2.7889 - acc: 0.3803 - val_loss: 2.4494 - val_acc: 0.5763\n",
      "Epoch 2/10\n",
      "10168/10168 [==============================] - 44s 4ms/step - loss: 1.8737 - acc: 0.6944 - val_loss: 1.6527 - val_acc: 0.6612\n",
      "Epoch 3/10\n",
      "10168/10168 [==============================] - 44s 4ms/step - loss: 1.1236 - acc: 0.8128 - val_loss: 1.2753 - val_acc: 0.6969\n",
      "Epoch 4/10\n",
      "10168/10168 [==============================] - 44s 4ms/step - loss: 0.7402 - acc: 0.8680 - val_loss: 1.1261 - val_acc: 0.7114\n",
      "Epoch 5/10\n",
      "10168/10168 [==============================] - 44s 4ms/step - loss: 0.5243 - acc: 0.9084 - val_loss: 1.0621 - val_acc: 0.7183\n",
      "Epoch 6/10\n",
      "10168/10168 [==============================] - 44s 4ms/step - loss: 0.3856 - acc: 0.9361 - val_loss: 1.0259 - val_acc: 0.7211\n",
      "Epoch 7/10\n",
      "10168/10168 [==============================] - 44s 4ms/step - loss: 0.2898 - acc: 0.9547 - val_loss: 1.0160 - val_acc: 0.7198\n",
      "Epoch 8/10\n",
      "10168/10168 [==============================] - 45s 4ms/step - loss: 0.2226 - acc: 0.9685 - val_loss: 1.0114 - val_acc: 0.7221\n",
      "Epoch 9/10\n",
      "10168/10168 [==============================] - 44s 4ms/step - loss: 0.1727 - acc: 0.9784 - val_loss: 1.0241 - val_acc: 0.7198\n",
      "Epoch 10/10\n",
      "10168/10168 [==============================] - 44s 4ms/step - loss: 0.1335 - acc: 0.9845 - val_loss: 1.0311 - val_acc: 0.7197\n",
      "Test loss: 1.0311302345353026\n",
      "Test accuracy: 0.7197001838748146\n"
     ]
    }
   ],
   "source": [
    "model.compile(loss='categorical_crossentropy',\n",
    "              optimizer='adam',\n",
    "              metrics=['accuracy'])\n",
    "\n",
    "early_stopper = EarlyStopping(min_delta=0.001, patience=2)\n",
    "csv = CSVLogger(notebook + '_log.csv')\n",
    "\n",
    "history = model.fit(X_train, Y_train,\n",
    "                    batch_size=batch_size,\n",
    "                    epochs=10,\n",
    "                    verbose=1,\n",
    "                    #callbacks=[early_stopper, csv],\n",
    "                    validation_data=(X_test, Y_test))\n",
    "score = model.evaluate(X_test, Y_test, verbose=0)\n",
    "\n",
    "print('Test loss:', score[0])\n",
    "print('Test accuracy:', score[1])"
   ]
  }
 ],
 "metadata": {
  "kernelspec": {
   "display_name": "Python 3",
   "language": "python",
   "name": "python3"
  },
  "language_info": {
   "codemirror_mode": {
    "name": "ipython",
    "version": 3
   },
   "file_extension": ".py",
   "mimetype": "text/x-python",
   "name": "python",
   "nbconvert_exporter": "python",
   "pygments_lexer": "ipython3",
   "version": "3.6.5"
  }
 },
 "nbformat": 4,
 "nbformat_minor": 2
}
