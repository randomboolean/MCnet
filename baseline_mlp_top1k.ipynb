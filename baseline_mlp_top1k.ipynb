{
 "cells": [
  {
   "cell_type": "code",
   "execution_count": 1,
   "metadata": {
    "collapsed": true
   },
   "outputs": [],
   "source": [
    "import os\n",
    "os.environ['CUDA_VISIBLE_DEVICES'] = '0'"
   ]
  },
  {
   "cell_type": "code",
   "execution_count": 2,
   "metadata": {},
   "outputs": [
    {
     "name": "stderr",
     "output_type": "stream",
     "text": [
      "Using TensorFlow backend.\n"
     ]
    }
   ],
   "source": [
    "from __future__ import print_function\n",
    "\n",
    "import keras\n",
    "from keras.models import Sequential\n",
    "from keras.layers import Dense, Dropout\n",
    "\n",
    "from loader import load_20news"
   ]
  },
  {
   "cell_type": "code",
   "execution_count": 3,
   "metadata": {},
   "outputs": [],
   "source": [
    "(input_shape, nb_classes), (X_train, X_test, Y_train, Y_test), graph_data = \\\n",
    "    load_20news(data_home='data', top_words=1000, sparse=False, remove_short_documents=True, verbose=False)"
   ]
  },
  {
   "cell_type": "code",
   "execution_count": 5,
   "metadata": {},
   "outputs": [],
   "source": [
    "X_train = X_train.reshape(X_train.shape[0], X_train.shape[1] * X_train.shape[2])\n",
    "X_test = X_test.reshape(X_test.shape[0], X_test.shape[1] * X_test.shape[2])\n",
    "batch_size = 64\n",
    "num_classes = Y_train.shape[1]"
   ]
  },
  {
   "cell_type": "code",
   "execution_count": 6,
   "metadata": {},
   "outputs": [
    {
     "name": "stdout",
     "output_type": "stream",
     "text": [
      "(9922, 1000)\n",
      "(6695, 1000)\n",
      "64 20\n"
     ]
    }
   ],
   "source": [
    "print(X_train.shape)\n",
    "print(X_test.shape)\n",
    "print(batch_size, num_classes)"
   ]
  },
  {
   "cell_type": "code",
   "execution_count": 7,
   "metadata": {},
   "outputs": [
    {
     "name": "stdout",
     "output_type": "stream",
     "text": [
      "_________________________________________________________________\n",
      "Layer (type)                 Output Shape              Param #   \n",
      "=================================================================\n",
      "dense_1 (Dense)              (None, 2500)              2502500   \n",
      "_________________________________________________________________\n",
      "dropout_1 (Dropout)          (None, 2500)              0         \n",
      "_________________________________________________________________\n",
      "dense_2 (Dense)              (None, 500)               1250500   \n",
      "_________________________________________________________________\n",
      "dropout_2 (Dropout)          (None, 500)               0         \n",
      "_________________________________________________________________\n",
      "dense_3 (Dense)              (None, 20)                10020     \n",
      "=================================================================\n",
      "Total params: 3,763,020\n",
      "Trainable params: 3,763,020\n",
      "Non-trainable params: 0\n",
      "_________________________________________________________________\n"
     ]
    }
   ],
   "source": [
    "model = Sequential()\n",
    "model.add(Dense(2500, activation='relu', input_shape=(X_train.shape[1],)))\n",
    "model.add(Dropout(0.2))\n",
    "model.add(Dense(500, activation='relu'))\n",
    "model.add(Dropout(0.2))\n",
    "model.add(Dense(num_classes, activation='softmax'))\n",
    "model.summary()"
   ]
  },
  {
   "cell_type": "code",
   "execution_count": 8,
   "metadata": {},
   "outputs": [
    {
     "name": "stdout",
     "output_type": "stream",
     "text": [
      "Train on 9922 samples, validate on 6695 samples\n",
      "Epoch 1/20\n",
      "9922/9922 [==============================] - 2s - loss: 2.1515 - acc: 0.3545 - val_loss: 1.5588 - val_acc: 0.5347\n",
      "Epoch 2/20\n",
      "9922/9922 [==============================] - 1s - loss: 1.1571 - acc: 0.6464 - val_loss: 1.4689 - val_acc: 0.5665\n",
      "Epoch 3/20\n",
      "9922/9922 [==============================] - 1s - loss: 0.8817 - acc: 0.7188 - val_loss: 1.5125 - val_acc: 0.5698\n",
      "Epoch 4/20\n",
      "9922/9922 [==============================] - 1s - loss: 0.7065 - acc: 0.7753 - val_loss: 1.5650 - val_acc: 0.5706\n",
      "Epoch 5/20\n",
      "9922/9922 [==============================] - 1s - loss: 0.5667 - acc: 0.8215 - val_loss: 1.7313 - val_acc: 0.5637\n",
      "Epoch 6/20\n",
      "9922/9922 [==============================] - 1s - loss: 0.4579 - acc: 0.8609 - val_loss: 1.8082 - val_acc: 0.5643\n",
      "Epoch 7/20\n",
      "9922/9922 [==============================] - 1s - loss: 0.3524 - acc: 0.8923 - val_loss: 1.9973 - val_acc: 0.5612\n",
      "Epoch 8/20\n",
      "9922/9922 [==============================] - 1s - loss: 0.2677 - acc: 0.9193 - val_loss: 2.1303 - val_acc: 0.5515\n",
      "Epoch 9/20\n",
      "9922/9922 [==============================] - 1s - loss: 0.2128 - acc: 0.9412 - val_loss: 2.2537 - val_acc: 0.5537\n",
      "Epoch 10/20\n",
      "9922/9922 [==============================] - 1s - loss: 0.1525 - acc: 0.9591 - val_loss: 2.4263 - val_acc: 0.5507\n",
      "Epoch 11/20\n",
      "9922/9922 [==============================] - 1s - loss: 0.1209 - acc: 0.9717 - val_loss: 2.4905 - val_acc: 0.5534\n",
      "Epoch 12/20\n",
      "9922/9922 [==============================] - 1s - loss: 0.0897 - acc: 0.9799 - val_loss: 2.6300 - val_acc: 0.5471\n",
      "Epoch 13/20\n",
      "9922/9922 [==============================] - 1s - loss: 0.0710 - acc: 0.9849 - val_loss: 2.7196 - val_acc: 0.5500\n",
      "Epoch 14/20\n",
      "9922/9922 [==============================] - 1s - loss: 0.0572 - acc: 0.9884 - val_loss: 2.8522 - val_acc: 0.5477\n",
      "Epoch 15/20\n",
      "9922/9922 [==============================] - 1s - loss: 0.0443 - acc: 0.9915 - val_loss: 2.9637 - val_acc: 0.5476\n",
      "Epoch 16/20\n",
      "9922/9922 [==============================] - 1s - loss: 0.0371 - acc: 0.9933 - val_loss: 3.0222 - val_acc: 0.5459\n",
      "Epoch 17/20\n",
      "9922/9922 [==============================] - 1s - loss: 0.0338 - acc: 0.9944 - val_loss: 3.0970 - val_acc: 0.5444\n",
      "Epoch 18/20\n",
      "9922/9922 [==============================] - 1s - loss: 0.0289 - acc: 0.9945 - val_loss: 3.1543 - val_acc: 0.5506\n",
      "Epoch 19/20\n",
      "9922/9922 [==============================] - 1s - loss: 0.0254 - acc: 0.9959 - val_loss: 3.2194 - val_acc: 0.5420\n",
      "Epoch 20/20\n",
      "9922/9922 [==============================] - 1s - loss: 0.0213 - acc: 0.9960 - val_loss: 3.2897 - val_acc: 0.5437\n",
      "Test loss: 3.28970881164\n",
      "Test accuracy: 0.543689320424\n"
     ]
    }
   ],
   "source": [
    "model.compile(loss='categorical_crossentropy',\n",
    "              optimizer='adam',\n",
    "              metrics=['accuracy'])\n",
    "\n",
    "history = model.fit(X_train, Y_train,\n",
    "                    batch_size=batch_size,\n",
    "                    epochs=20,\n",
    "                    verbose=1,\n",
    "                    validation_data=(X_test, Y_test))\n",
    "score = model.evaluate(X_test, Y_test, verbose=0)\n",
    "\n",
    "print('Test loss:', score[0])\n",
    "print('Test accuracy:', score[1])"
   ]
  }
 ],
 "metadata": {
  "kernelspec": {
   "display_name": "pvle",
   "language": "python",
   "name": "pvle"
  },
  "language_info": {
   "codemirror_mode": {
    "name": "ipython",
    "version": 2
   },
   "file_extension": ".py",
   "mimetype": "text/x-python",
   "name": "python",
   "nbconvert_exporter": "python",
   "pygments_lexer": "ipython2",
   "version": "2.7.5"
  }
 },
 "nbformat": 4,
 "nbformat_minor": 2
}
