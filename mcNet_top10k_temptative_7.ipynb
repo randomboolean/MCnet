{
 "cells": [
  {
   "cell_type": "code",
   "execution_count": 1,
   "metadata": {
    "collapsed": true
   },
   "outputs": [],
   "source": [
    "import os\n",
    "os.environ['CUDA_VISIBLE_DEVICES'] = '1'"
   ]
  },
  {
   "cell_type": "code",
   "execution_count": 2,
   "metadata": {},
   "outputs": [
    {
     "name": "stderr",
     "output_type": "stream",
     "text": [
      "Using TensorFlow backend.\n"
     ]
    }
   ],
   "source": [
    "from __future__ import print_function\n",
    "\n",
    "import keras\n",
    "from keras.models import Sequential\n",
    "from keras.layers import Conv1D, Dense, Dropout, Flatten\n",
    "from keras.callbacks import EarlyStopping, CSVLogger\n",
    "\n",
    "from loader import load_20news\n",
    "from custom_layer import MonteCarloLRF, SeparableMonteCarloLRF, SeparableMonteCarloMaxPoolingV2\n",
    "\n",
    "import numpy as np\n",
    "import sklearn as sk\n",
    "import pickle"
   ]
  },
  {
   "cell_type": "code",
   "execution_count": 3,
   "metadata": {
    "collapsed": true
   },
   "outputs": [],
   "source": [
    "top_words=10000\n",
    "sparse=False\n",
    "remove_short_documents=True\n",
    "notebook = 'mcNet_top10k_temptative_7'\n",
    "batch_size = 16"
   ]
  },
  {
   "cell_type": "code",
   "execution_count": 4,
   "metadata": {
    "collapsed": true
   },
   "outputs": [],
   "source": [
    "(input_shape, nb_classes), (X_train, X_test, Y_train, Y_test), graph_data = \\\n",
    "    load_20news(data_home='data', top_words=top_words, sparse=sparse,\n",
    "                remove_short_documents=remove_short_documents, verbose=False)"
   ]
  },
  {
   "cell_type": "code",
   "execution_count": 5,
   "metadata": {
    "collapsed": true
   },
   "outputs": [],
   "source": [
    "X_train = X_train.reshape(X_train.shape[0], X_train.shape[1], X_train.shape[2])\n",
    "X_test = X_test.reshape(X_test.shape[0], X_test.shape[1], X_test.shape[2])\n",
    "num_classes = Y_train.shape[1]"
   ]
  },
  {
   "cell_type": "code",
   "execution_count": 6,
   "metadata": {},
   "outputs": [
    {
     "name": "stdout",
     "output_type": "stream",
     "text": [
      "(10168, 10000, 1)\n",
      "(7071, 10000, 1)\n",
      "16 20\n"
     ]
    }
   ],
   "source": [
    "print(X_train.shape)\n",
    "print(X_test.shape)\n",
    "print(batch_size, num_classes)"
   ]
  },
  {
   "cell_type": "code",
   "execution_count": 7,
   "metadata": {},
   "outputs": [
    {
     "name": "stdout",
     "output_type": "stream",
     "text": [
      "CPU times: user 5.34 s, sys: 458 ms, total: 5.8 s\n",
      "Wall time: 5.8 s\n"
     ]
    }
   ],
   "source": [
    "%%time\n",
    "#Process next cell only once\n",
    "path = os.path.join('probabilities_' + \n",
    "                    'top' + str(top_words) +\n",
    "                    '_sparse' + str(sparse) +\n",
    "                    '_removeShorts' + str(remove_short_documents) +\n",
    "                    '.pkl')\n",
    "if os.path.isfile(path):\n",
    "  probabilities = pickle.load(open(path, \"rb\"))"
   ]
  },
  {
   "cell_type": "code",
   "execution_count": 8,
   "metadata": {
    "collapsed": true
   },
   "outputs": [],
   "source": [
    "if not(os.path.isfile(path)):\n",
    "  METRIC = 'cosine'#'euclidean'\n",
    "  distances = sk.metrics.pairwise.pairwise_distances(graph_data, metric=METRIC, n_jobs=-2)\n",
    "\n",
    "  # enforce exact zero\n",
    "  for k in xrange(distances.shape[0]):\n",
    "    distances[k,k] = 0.\n",
    "\n",
    "  # max normalize\n",
    "  #distances /= distances.max()\n",
    "  distances /= distances.max(axis=1).reshape((distances.shape[0], 1))\n",
    "\n",
    "  # use tricube kernel (becaause of flatness around 0)\n",
    "  probabilities = (1. - np.abs(distances) ** 3) ** 3\n",
    "\n",
    "  # remove auto connections (which are taken anyway in LRF)\n",
    "  for k in xrange(probabilities.shape[0]):\n",
    "    probabilities[k,k] = 0.\n",
    "\n",
    "  # normalize proba\n",
    "  probabilities /= np.sum(probabilities, axis=1).reshape((probabilities.shape[0], 1))\n",
    "  \n",
    "  # pickled for later use\n",
    "  pickle.dump(probabilities, open(path,\"wb\"))  "
   ]
  },
  {
   "cell_type": "code",
   "execution_count": 9,
   "metadata": {},
   "outputs": [
    {
     "name": "stdout",
     "output_type": "stream",
     "text": [
      "_________________________________________________________________\n",
      "Layer (type)                 Output Shape              Param #   \n",
      "=================================================================\n",
      "monte_carlo_lrf_1 (MonteCarl (None, 10000, 32)         544       \n",
      "_________________________________________________________________\n",
      "flatten_1 (Flatten)          (None, 320000)            0         \n",
      "_________________________________________________________________\n",
      "dropout_1 (Dropout)          (None, 320000)            0         \n",
      "_________________________________________________________________\n",
      "dense_1 (Dense)              (None, 20)                6400020   \n",
      "=================================================================\n",
      "Total params: 6,400,564\n",
      "Trainable params: 6,400,564\n",
      "Non-trainable params: 0\n",
      "_________________________________________________________________\n"
     ]
    }
   ],
   "source": [
    "model = Sequential()\n",
    "model.add(MonteCarloLRF(probabilities, LRF_size=16, filters=32, activation='relu',\n",
    "                       input_shape=(X_train.shape[1], X_train.shape[2])))\n",
    "#model.add(Conv1D(1, kernel_size=1, activation='relu',\n",
    "#                 padding='same',kernel_initializer='he_uniform'))\n",
    "#model.add(SeparableMonteCarloMaxPoolingV2(LRF_size=4, new_size=2500))\n",
    "#model.add(Dropout(0.2))\n",
    "model.add(Flatten())\n",
    "#model.add(Dense(500, activation='relu'))\n",
    "model.add(Dropout(0.5))\n",
    "model.add(Dense(num_classes, activation='softmax'))\n",
    "model.summary()"
   ]
  },
  {
   "cell_type": "code",
   "execution_count": 10,
   "metadata": {},
   "outputs": [
    {
     "name": "stdout",
     "output_type": "stream",
     "text": [
      "Train on 10168 samples, validate on 7071 samples\n",
      "Epoch 1/20\n",
      "10168/10168 [==============================] - 100s - loss: 1.9404 - acc: 0.5450 - val_loss: 1.2843 - val_acc: 0.6749\n",
      "Epoch 2/20\n",
      "10168/10168 [==============================] - 99s - loss: 0.4893 - acc: 0.8937 - val_loss: 1.1079 - val_acc: 0.7073\n",
      "Epoch 3/20\n",
      "10168/10168 [==============================] - 99s - loss: 0.1770 - acc: 0.9693 - val_loss: 1.1709 - val_acc: 0.7057\n",
      "Epoch 4/20\n",
      "10168/10168 [==============================] - 99s - loss: 0.0747 - acc: 0.9910 - val_loss: 1.2432 - val_acc: 0.6981\n",
      "Epoch 5/20\n",
      "10168/10168 [==============================] - 99s - loss: 0.0382 - acc: 0.9956 - val_loss: 1.3568 - val_acc: 0.6901\n",
      "Test loss: 1.35683490778\n",
      "Test accuracy: 0.690142836847\n"
     ]
    }
   ],
   "source": [
    "model.compile(loss='categorical_crossentropy',\n",
    "              optimizer='adam',\n",
    "              metrics=['accuracy'])\n",
    "\n",
    "early_stopper = EarlyStopping(min_delta=0.001, patience=2)\n",
    "csv = CSVLogger(notebook + '_log.csv')\n",
    "\n",
    "history = model.fit(X_train, Y_train,\n",
    "                    batch_size=batch_size,\n",
    "                    epochs=20,\n",
    "                    verbose=1,\n",
    "                    callbacks=[early_stopper, csv],\n",
    "                    validation_data=(X_test, Y_test))\n",
    "score = model.evaluate(X_test, Y_test, verbose=0)\n",
    "\n",
    "print('Test loss:', score[0])\n",
    "print('Test accuracy:', score[1])"
   ]
  },
  {
   "cell_type": "code",
   "execution_count": 11,
   "metadata": {},
   "outputs": [
    {
     "name": "stdout",
     "output_type": "stream",
     "text": [
      "epoch,acc,loss,val_acc,val_loss\r\n",
      "0,0.5450432730133753,1.9404424250266572,0.674869184159538,1.2842907058587423\r\n",
      "1,0.89368607395751376,0.48927312082282021,0.7072549853107748,1.1079141713658818\r\n",
      "2,0.96931549960660901,0.17695935824658812,0.70569933546498143,1.1708667914207544\r\n",
      "3,0.9909520062942565,0.074665257441983462,0.69806250899907907,1.2431898087730942\r\n",
      "4,0.9955743509047994,0.038191223081075282,0.69014283710820157,1.3568349116560998\r\n"
     ]
    }
   ],
   "source": [
    "%%bash\n",
    "tail mcNet_top10k_temptative_7_log.csv"
   ]
  },
  {
   "cell_type": "code",
   "execution_count": null,
   "metadata": {
    "collapsed": true
   },
   "outputs": [],
   "source": []
  }
 ],
 "metadata": {
  "kernelspec": {
   "display_name": "pvle",
   "language": "python",
   "name": "pvle"
  },
  "language_info": {
   "codemirror_mode": {
    "name": "ipython",
    "version": 2
   },
   "file_extension": ".py",
   "mimetype": "text/x-python",
   "name": "python",
   "nbconvert_exporter": "python",
   "pygments_lexer": "ipython2",
   "version": "2.7.5"
  }
 },
 "nbformat": 4,
 "nbformat_minor": 2
}
