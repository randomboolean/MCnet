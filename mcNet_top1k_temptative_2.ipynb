{
 "cells": [
  {
   "cell_type": "code",
   "execution_count": 1,
   "metadata": {
    "collapsed": true
   },
   "outputs": [],
   "source": [
    "import os\n",
    "os.environ['CUDA_VISIBLE_DEVICES'] = '1'"
   ]
  },
  {
   "cell_type": "code",
   "execution_count": 2,
   "metadata": {},
   "outputs": [
    {
     "name": "stderr",
     "output_type": "stream",
     "text": [
      "Using TensorFlow backend.\n"
     ]
    }
   ],
   "source": [
    "from __future__ import print_function\n",
    "\n",
    "import keras\n",
    "from keras.models import Sequential\n",
    "from keras.layers import Conv1D, Dense, Dropout, Flatten\n",
    "\n",
    "from loader import load_20news\n",
    "from custom_layer import MonteCarloLRF\n",
    "\n",
    "import numpy as np\n",
    "import sklearn as sk"
   ]
  },
  {
   "cell_type": "code",
   "execution_count": 3,
   "metadata": {
    "collapsed": true
   },
   "outputs": [],
   "source": [
    "(input_shape, nb_classes), (X_train, X_test, Y_train, Y_test), graph_data = \\\n",
    "    load_20news(data_home='data', top_words=1000, sparse=False, remove_short_documents=True, verbose=False)"
   ]
  },
  {
   "cell_type": "code",
   "execution_count": 4,
   "metadata": {
    "collapsed": true
   },
   "outputs": [],
   "source": [
    "X_train = X_train.reshape(X_train.shape[0], X_train.shape[1], X_train.shape[2])\n",
    "X_test = X_test.reshape(X_test.shape[0], X_test.shape[1], X_test.shape[2])\n",
    "batch_size = 64\n",
    "num_classes = Y_train.shape[1]"
   ]
  },
  {
   "cell_type": "code",
   "execution_count": 5,
   "metadata": {},
   "outputs": [
    {
     "name": "stdout",
     "output_type": "stream",
     "text": [
      "(9922, 1000, 1)\n",
      "(6695, 1000, 1)\n",
      "64 20\n"
     ]
    }
   ],
   "source": [
    "print(X_train.shape)\n",
    "print(X_test.shape)\n",
    "print(batch_size, num_classes)"
   ]
  },
  {
   "cell_type": "code",
   "execution_count": 6,
   "metadata": {
    "collapsed": true
   },
   "outputs": [],
   "source": [
    "METRIC = 'cosine'#'euclidean'\n",
    "distances = sk.metrics.pairwise.pairwise_distances(graph_data, metric=METRIC, n_jobs=-2)\n",
    "\n",
    "# enforce exact zero\n",
    "for k in xrange(distances.shape[0]):\n",
    "  distances[k,k] = 0."
   ]
  },
  {
   "cell_type": "code",
   "execution_count": 7,
   "metadata": {},
   "outputs": [],
   "source": [
    "# max normalize\n",
    "#distances /= distances.max()\n",
    "distances /= distances.max(axis=1).reshape((distances.shape[0], 1))\n",
    "\n",
    "# use tricube kernel (becaause of flatness around 0)\n",
    "probabilities = (1. - np.abs(distances) ** 3) ** 3\n",
    "\n",
    "# remove auto connections (which are taken anyway in LRF)\n",
    "for k in xrange(probabilities.shape[0]):\n",
    "  probabilities[k,k] = 0.\n",
    "\n",
    "# normalize proba\n",
    "probabilities /= np.sum(probabilities, axis=1).reshape((probabilities.shape[0], 1))"
   ]
  },
  {
   "cell_type": "code",
   "execution_count": null,
   "metadata": {},
   "outputs": [
    {
     "name": "stdout",
     "output_type": "stream",
     "text": [
      "_________________________________________________________________\n",
      "Layer (type)                 Output Shape              Param #   \n",
      "=================================================================\n",
      "monte_carlo_lrf_1 (MonteCarl (None, 1000, 64)          1088      \n",
      "_________________________________________________________________\n",
      "dropout_1 (Dropout)          (None, 1000, 64)          0         \n",
      "_________________________________________________________________\n",
      "flatten_1 (Flatten)          (None, 64000)             0         \n",
      "_________________________________________________________________\n",
      "dense_1 (Dense)              (None, 20)                1280020   \n",
      "=================================================================\n",
      "Total params: 1,281,108\n",
      "Trainable params: 1,281,108\n",
      "Non-trainable params: 0\n",
      "_________________________________________________________________\n"
     ]
    }
   ],
   "source": [
    "model = Sequential()\n",
    "model.add(MonteCarloLRF(probabilities, LRF_size=16, filters=64, activation='relu',\n",
    "                       input_shape=(X_train.shape[1], X_train.shape[2])))\n",
    "model.add(Dropout(0.2))\n",
    "model.add(Flatten())\n",
    "model.add(Dense(num_classes, activation='softmax'))\n",
    "model.summary()"
   ]
  },
  {
   "cell_type": "code",
   "execution_count": null,
   "metadata": {},
   "outputs": [
    {
     "name": "stdout",
     "output_type": "stream",
     "text": [
      "Train on 9922 samples, validate on 6695 samples\n",
      "Epoch 1/20\n",
      "9922/9922 [==============================] - 16s - loss: 2.1623 - acc: 0.4728 - val_loss: 1.7795 - val_acc: 0.5231\n",
      "Epoch 2/20\n",
      "9922/9922 [==============================] - 15s - loss: 1.2539 - acc: 0.6742 - val_loss: 1.5492 - val_acc: 0.5713\n",
      "Epoch 3/20\n",
      "9922/9922 [==============================] - 15s - loss: 0.9703 - acc: 0.7295 - val_loss: 1.5562 - val_acc: 0.5630\n",
      "Epoch 4/20\n",
      "9922/9922 [==============================] - 15s - loss: 0.8200 - acc: 0.7627 - val_loss: 1.6100 - val_acc: 0.5658\n",
      "Epoch 5/20\n",
      "9922/9922 [==============================] - 15s - loss: 0.7130 - acc: 0.7906 - val_loss: 1.7034 - val_acc: 0.5516\n",
      "Epoch 6/20\n",
      "9922/9922 [==============================] - 15s - loss: 0.6332 - acc: 0.8127 - val_loss: 1.8006 - val_acc: 0.5476\n",
      "Epoch 7/20\n",
      "9922/9922 [==============================] - 15s - loss: 0.5724 - acc: 0.8298 - val_loss: 1.8846 - val_acc: 0.5459\n",
      "Epoch 8/20\n",
      "9922/9922 [==============================] - 15s - loss: 0.5209 - acc: 0.8460 - val_loss: 2.0334 - val_acc: 0.5350\n",
      "Epoch 9/20\n",
      "9922/9922 [==============================] - 15s - loss: 0.4802 - acc: 0.8566 - val_loss: 2.0746 - val_acc: 0.5453\n",
      "Epoch 10/20\n",
      "9922/9922 [==============================] - 15s - loss: 0.4417 - acc: 0.8685 - val_loss: 2.1920 - val_acc: 0.5337\n",
      "Epoch 11/20\n",
      "9922/9922 [==============================] - 15s - loss: 0.3967 - acc: 0.8881 - val_loss: 2.2750 - val_acc: 0.5350\n",
      "Epoch 12/20\n",
      "9922/9922 [==============================] - 15s - loss: 0.3699 - acc: 0.8927 - val_loss: 2.3872 - val_acc: 0.5276\n",
      "Epoch 13/20\n",
      "9922/9922 [==============================] - 15s - loss: 0.3413 - acc: 0.9030 - val_loss: 2.4735 - val_acc: 0.5289\n",
      "Epoch 14/20\n",
      "9922/9922 [==============================] - 15s - loss: 0.3113 - acc: 0.9143 - val_loss: 2.5699 - val_acc: 0.5252\n",
      "Epoch 15/20\n",
      "9922/9922 [==============================] - 15s - loss: 0.2980 - acc: 0.9190 - val_loss: 2.6557 - val_acc: 0.5238\n",
      "Epoch 16/20\n",
      "1024/9922 [==>...........................] - ETA: 9s - loss: 0.2164 - acc: 0.9502"
     ]
    }
   ],
   "source": [
    "model.compile(loss='categorical_crossentropy',\n",
    "              optimizer='adam',\n",
    "              metrics=['accuracy'])\n",
    "\n",
    "history = model.fit(X_train, Y_train,\n",
    "                    batch_size=batch_size,\n",
    "                    epochs=20,\n",
    "                    verbose=1,\n",
    "                    validation_data=(X_test, Y_test))\n",
    "score = model.evaluate(X_test, Y_test, verbose=0)\n",
    "\n",
    "print('Test loss:', score[0])\n",
    "print('Test accuracy:', score[1])"
   ]
  }
 ],
 "metadata": {
  "kernelspec": {
   "display_name": "pvle",
   "language": "python",
   "name": "pvle"
  },
  "language_info": {
   "codemirror_mode": {
    "name": "ipython",
    "version": 2
   },
   "file_extension": ".py",
   "mimetype": "text/x-python",
   "name": "python",
   "nbconvert_exporter": "python",
   "pygments_lexer": "ipython2",
   "version": "2.7.5"
  }
 },
 "nbformat": 4,
 "nbformat_minor": 2
}
