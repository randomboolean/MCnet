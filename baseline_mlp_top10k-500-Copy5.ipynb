{
 "cells": [
  {
   "cell_type": "code",
   "execution_count": 1,
   "metadata": {
    "collapsed": true
   },
   "outputs": [],
   "source": [
    "import os\n",
    "os.environ['CUDA_VISIBLE_DEVICES'] = '0'"
   ]
  },
  {
   "cell_type": "code",
   "execution_count": 2,
   "metadata": {},
   "outputs": [
    {
     "name": "stderr",
     "output_type": "stream",
     "text": [
      "Using TensorFlow backend.\n"
     ]
    }
   ],
   "source": [
    "from __future__ import print_function\n",
    "\n",
    "import keras\n",
    "from keras.models import Sequential\n",
    "from keras.layers import Dense, Dropout\n",
    "\n",
    "from loader import load_20news"
   ]
  },
  {
   "cell_type": "code",
   "execution_count": 3,
   "metadata": {
    "collapsed": true
   },
   "outputs": [],
   "source": [
    "(input_shape, nb_classes), (X_train, X_test, Y_train, Y_test), graph_data = \\\n",
    "    load_20news(data_home='data', top_words=10000, sparse=False, remove_short_documents=True, verbose=False)"
   ]
  },
  {
   "cell_type": "code",
   "execution_count": 4,
   "metadata": {
    "collapsed": true
   },
   "outputs": [],
   "source": [
    "X_train = X_train.reshape(X_train.shape[0], X_train.shape[1] * X_train.shape[2])\n",
    "X_test = X_test.reshape(X_test.shape[0], X_test.shape[1] * X_test.shape[2])\n",
    "batch_size = 64\n",
    "num_classes = Y_train.shape[1]"
   ]
  },
  {
   "cell_type": "code",
   "execution_count": 5,
   "metadata": {},
   "outputs": [
    {
     "name": "stdout",
     "output_type": "stream",
     "text": [
      "(10168, 10000)\n",
      "(7071, 10000)\n",
      "64 20\n"
     ]
    }
   ],
   "source": [
    "print(X_train.shape)\n",
    "print(X_test.shape)\n",
    "print(batch_size, num_classes)"
   ]
  },
  {
   "cell_type": "code",
   "execution_count": 6,
   "metadata": {},
   "outputs": [
    {
     "name": "stdout",
     "output_type": "stream",
     "text": [
      "_________________________________________________________________\n",
      "Layer (type)                 Output Shape              Param #   \n",
      "=================================================================\n",
      "dense_1 (Dense)              (None, 500)               5000500   \n",
      "_________________________________________________________________\n",
      "dropout_1 (Dropout)          (None, 500)               0         \n",
      "_________________________________________________________________\n",
      "dense_2 (Dense)              (None, 20)                10020     \n",
      "=================================================================\n",
      "Total params: 5,010,520\n",
      "Trainable params: 5,010,520\n",
      "Non-trainable params: 0\n",
      "_________________________________________________________________\n"
     ]
    }
   ],
   "source": [
    "model = Sequential()\n",
    "model.add(Dense(500, activation='relu', input_shape=(X_train.shape[1],)))\n",
    "model.add(Dropout(0.2))\n",
    "#model.add(Dense(500, activation='relu'))\n",
    "#model.add(Dropout(0.2))\n",
    "model.add(Dense(num_classes, activation='softmax'))\n",
    "model.summary()"
   ]
  },
  {
   "cell_type": "code",
   "execution_count": 7,
   "metadata": {},
   "outputs": [
    {
     "name": "stdout",
     "output_type": "stream",
     "text": [
      "Train on 10168 samples, validate on 7071 samples\n",
      "Epoch 1/20\n",
      "10168/10168 [==============================] - 3s - loss: 2.7821 - acc: 0.4081 - val_loss: 2.4302 - val_acc: 0.5433\n",
      "Epoch 2/20\n",
      "10168/10168 [==============================] - 1s - loss: 1.8424 - acc: 0.6944 - val_loss: 1.6308 - val_acc: 0.6439\n",
      "Epoch 3/20\n",
      "10168/10168 [==============================] - 1s - loss: 1.1003 - acc: 0.8130 - val_loss: 1.2611 - val_acc: 0.6998\n",
      "Epoch 4/20\n",
      "10168/10168 [==============================] - 1s - loss: 0.7243 - acc: 0.8697 - val_loss: 1.1150 - val_acc: 0.7118\n",
      "Epoch 5/20\n",
      "10168/10168 [==============================] - 1s - loss: 0.5156 - acc: 0.9073 - val_loss: 1.0528 - val_acc: 0.7167\n",
      "Epoch 6/20\n",
      "10168/10168 [==============================] - 1s - loss: 0.3775 - acc: 0.9353 - val_loss: 1.0204 - val_acc: 0.7201\n",
      "Epoch 7/20\n",
      "10168/10168 [==============================] - 1s - loss: 0.2848 - acc: 0.9559 - val_loss: 1.0136 - val_acc: 0.7221\n",
      "Epoch 8/20\n",
      "10168/10168 [==============================] - 1s - loss: 0.2179 - acc: 0.9691 - val_loss: 1.0141 - val_acc: 0.7241\n",
      "Epoch 9/20\n",
      "10168/10168 [==============================] - 1s - loss: 0.1682 - acc: 0.9784 - val_loss: 1.0221 - val_acc: 0.7201\n",
      "Epoch 10/20\n",
      "10168/10168 [==============================] - 1s - loss: 0.1321 - acc: 0.9852 - val_loss: 1.0379 - val_acc: 0.7189\n",
      "Epoch 11/20\n",
      "10168/10168 [==============================] - 1s - loss: 0.1052 - acc: 0.9890 - val_loss: 1.0431 - val_acc: 0.7200\n",
      "Epoch 12/20\n",
      "10168/10168 [==============================] - 1s - loss: 0.0845 - acc: 0.9924 - val_loss: 1.0641 - val_acc: 0.7163\n",
      "Epoch 13/20\n",
      "10168/10168 [==============================] - 1s - loss: 0.0691 - acc: 0.9946 - val_loss: 1.0767 - val_acc: 0.7179\n",
      "Epoch 14/20\n",
      "10168/10168 [==============================] - 1s - loss: 0.0566 - acc: 0.9956 - val_loss: 1.0900 - val_acc: 0.7160\n",
      "Epoch 15/20\n",
      "10168/10168 [==============================] - 1s - loss: 0.0472 - acc: 0.9961 - val_loss: 1.1084 - val_acc: 0.7167\n",
      "Epoch 16/20\n",
      "10168/10168 [==============================] - 1s - loss: 0.0398 - acc: 0.9971 - val_loss: 1.1216 - val_acc: 0.7167\n",
      "Epoch 17/20\n",
      "10168/10168 [==============================] - 1s - loss: 0.0327 - acc: 0.9979 - val_loss: 1.1378 - val_acc: 0.7153\n",
      "Epoch 18/20\n",
      "10168/10168 [==============================] - 1s - loss: 0.0288 - acc: 0.9980 - val_loss: 1.1596 - val_acc: 0.7157\n",
      "Epoch 19/20\n",
      "10168/10168 [==============================] - 1s - loss: 0.0242 - acc: 0.9985 - val_loss: 1.1762 - val_acc: 0.7157\n",
      "Epoch 20/20\n",
      "10168/10168 [==============================] - 1s - loss: 0.0215 - acc: 0.9983 - val_loss: 1.1874 - val_acc: 0.7149\n",
      "Test loss: 1.187356685\n",
      "Test accuracy: 0.714891811389\n"
     ]
    }
   ],
   "source": [
    "model.compile(loss='categorical_crossentropy',\n",
    "              optimizer='adam',\n",
    "              metrics=['accuracy'])\n",
    "\n",
    "history = model.fit(X_train, Y_train,\n",
    "                    batch_size=batch_size,\n",
    "                    epochs=20,\n",
    "                    verbose=1,\n",
    "                    validation_data=(X_test, Y_test))\n",
    "score = model.evaluate(X_test, Y_test, verbose=0)\n",
    "\n",
    "print('Test loss:', score[0])\n",
    "print('Test accuracy:', score[1])"
   ]
  }
 ],
 "metadata": {
  "kernelspec": {
   "display_name": "pvle",
   "language": "python",
   "name": "pvle"
  },
  "language_info": {
   "codemirror_mode": {
    "name": "ipython",
    "version": 2
   },
   "file_extension": ".py",
   "mimetype": "text/x-python",
   "name": "python",
   "nbconvert_exporter": "python",
   "pygments_lexer": "ipython2",
   "version": "2.7.5"
  }
 },
 "nbformat": 4,
 "nbformat_minor": 2
}
