{
 "cells": [
  {
   "cell_type": "code",
   "execution_count": 1,
   "metadata": {
    "collapsed": true
   },
   "outputs": [],
   "source": [
    "import os\n",
    "os.environ['CUDA_VISIBLE_DEVICES'] = '0'"
   ]
  },
  {
   "cell_type": "code",
   "execution_count": 2,
   "metadata": {},
   "outputs": [
    {
     "name": "stderr",
     "output_type": "stream",
     "text": [
      "Using TensorFlow backend.\n"
     ]
    }
   ],
   "source": [
    "from __future__ import print_function\n",
    "\n",
    "import keras\n",
    "from keras.models import Sequential\n",
    "from keras.layers import Dense, Dropout\n",
    "\n",
    "from loader import load_20news"
   ]
  },
  {
   "cell_type": "code",
   "execution_count": 3,
   "metadata": {
    "collapsed": true
   },
   "outputs": [],
   "source": [
    "(input_shape, nb_classes), (X_train, X_test, Y_train, Y_test), graph_data = \\\n",
    "    load_20news(data_home='data', top_words=10000, sparse=False, remove_short_documents=True, verbose=False)"
   ]
  },
  {
   "cell_type": "code",
   "execution_count": 4,
   "metadata": {
    "collapsed": true
   },
   "outputs": [],
   "source": [
    "X_train = X_train.reshape(X_train.shape[0], X_train.shape[1] * X_train.shape[2])\n",
    "X_test = X_test.reshape(X_test.shape[0], X_test.shape[1] * X_test.shape[2])\n",
    "batch_size = 64\n",
    "num_classes = Y_train.shape[1]"
   ]
  },
  {
   "cell_type": "code",
   "execution_count": 5,
   "metadata": {},
   "outputs": [
    {
     "name": "stdout",
     "output_type": "stream",
     "text": [
      "(10168, 10000)\n",
      "(7071, 10000)\n",
      "64 20\n"
     ]
    }
   ],
   "source": [
    "print(X_train.shape)\n",
    "print(X_test.shape)\n",
    "print(batch_size, num_classes)"
   ]
  },
  {
   "cell_type": "code",
   "execution_count": 6,
   "metadata": {},
   "outputs": [
    {
     "name": "stdout",
     "output_type": "stream",
     "text": [
      "_________________________________________________________________\n",
      "Layer (type)                 Output Shape              Param #   \n",
      "=================================================================\n",
      "dense_1 (Dense)              (None, 500)               5000500   \n",
      "_________________________________________________________________\n",
      "dropout_1 (Dropout)          (None, 500)               0         \n",
      "_________________________________________________________________\n",
      "dense_2 (Dense)              (None, 20)                10020     \n",
      "=================================================================\n",
      "Total params: 5,010,520\n",
      "Trainable params: 5,010,520\n",
      "Non-trainable params: 0\n",
      "_________________________________________________________________\n"
     ]
    }
   ],
   "source": [
    "model = Sequential()\n",
    "model.add(Dense(500, activation='relu', input_shape=(X_train.shape[1],)))\n",
    "model.add(Dropout(0.2))\n",
    "#model.add(Dense(500, activation='relu'))\n",
    "#model.add(Dropout(0.2))\n",
    "model.add(Dense(num_classes, activation='softmax'))\n",
    "model.summary()"
   ]
  },
  {
   "cell_type": "code",
   "execution_count": 7,
   "metadata": {},
   "outputs": [
    {
     "name": "stdout",
     "output_type": "stream",
     "text": [
      "Train on 10168 samples, validate on 7071 samples\n",
      "Epoch 1/20\n",
      "10168/10168 [==============================] - 3s - loss: 2.7819 - acc: 0.4046 - val_loss: 2.4294 - val_acc: 0.5357\n",
      "Epoch 2/20\n",
      "10168/10168 [==============================] - 1s - loss: 1.8487 - acc: 0.6972 - val_loss: 1.6299 - val_acc: 0.6631\n",
      "Epoch 3/20\n",
      "10168/10168 [==============================] - 1s - loss: 1.1030 - acc: 0.8182 - val_loss: 1.2643 - val_acc: 0.7017\n",
      "Epoch 4/20\n",
      "10168/10168 [==============================] - 1s - loss: 0.7258 - acc: 0.8698 - val_loss: 1.1154 - val_acc: 0.7081\n",
      "Epoch 5/20\n",
      "10168/10168 [==============================] - 1s - loss: 0.5153 - acc: 0.9093 - val_loss: 1.0518 - val_acc: 0.7125\n",
      "Epoch 6/20\n",
      "10168/10168 [==============================] - 1s - loss: 0.3796 - acc: 0.9350 - val_loss: 1.0226 - val_acc: 0.7181\n",
      "Epoch 7/20\n",
      "10168/10168 [==============================] - 1s - loss: 0.2862 - acc: 0.9560 - val_loss: 1.0072 - val_acc: 0.7204\n",
      "Epoch 8/20\n",
      "10168/10168 [==============================] - 1s - loss: 0.2160 - acc: 0.9705 - val_loss: 1.0160 - val_acc: 0.7203\n",
      "Epoch 9/20\n",
      "10168/10168 [==============================] - 1s - loss: 0.1687 - acc: 0.9790 - val_loss: 1.0206 - val_acc: 0.7176\n",
      "Epoch 10/20\n",
      "10168/10168 [==============================] - 1s - loss: 0.1321 - acc: 0.9851 - val_loss: 1.0329 - val_acc: 0.7183\n",
      "Epoch 11/20\n",
      "10168/10168 [==============================] - 1s - loss: 0.1062 - acc: 0.9880 - val_loss: 1.0430 - val_acc: 0.7190\n",
      "Epoch 12/20\n",
      "10168/10168 [==============================] - 1s - loss: 0.0847 - acc: 0.9920 - val_loss: 1.0571 - val_acc: 0.7170\n",
      "Epoch 13/20\n",
      "10168/10168 [==============================] - 1s - loss: 0.0679 - acc: 0.9944 - val_loss: 1.0735 - val_acc: 0.7150\n",
      "Epoch 14/20\n",
      "10168/10168 [==============================] - 1s - loss: 0.0564 - acc: 0.9957 - val_loss: 1.0888 - val_acc: 0.7169\n",
      "Epoch 15/20\n",
      "10168/10168 [==============================] - 1s - loss: 0.0466 - acc: 0.9965 - val_loss: 1.1037 - val_acc: 0.7135\n",
      "Epoch 16/20\n",
      "10168/10168 [==============================] - 1s - loss: 0.0393 - acc: 0.9968 - val_loss: 1.1199 - val_acc: 0.7148\n",
      "Epoch 17/20\n",
      "10168/10168 [==============================] - 1s - loss: 0.0328 - acc: 0.9979 - val_loss: 1.1468 - val_acc: 0.7160\n",
      "Epoch 18/20\n",
      "10168/10168 [==============================] - 1s - loss: 0.0288 - acc: 0.9979 - val_loss: 1.1552 - val_acc: 0.7148\n",
      "Epoch 19/20\n",
      "10168/10168 [==============================] - 1s - loss: 0.0239 - acc: 0.9985 - val_loss: 1.1736 - val_acc: 0.7163\n",
      "Epoch 20/20\n",
      "10168/10168 [==============================] - 1s - loss: 0.0212 - acc: 0.9987 - val_loss: 1.1905 - val_acc: 0.7143\n",
      "Test loss: 1.19054757058\n",
      "Test accuracy: 0.714326120539\n"
     ]
    }
   ],
   "source": [
    "model.compile(loss='categorical_crossentropy',\n",
    "              optimizer='adam',\n",
    "              metrics=['accuracy'])\n",
    "\n",
    "history = model.fit(X_train, Y_train,\n",
    "                    batch_size=batch_size,\n",
    "                    epochs=20,\n",
    "                    verbose=1,\n",
    "                    validation_data=(X_test, Y_test))\n",
    "score = model.evaluate(X_test, Y_test, verbose=0)\n",
    "\n",
    "print('Test loss:', score[0])\n",
    "print('Test accuracy:', score[1])"
   ]
  }
 ],
 "metadata": {
  "kernelspec": {
   "display_name": "pvle",
   "language": "python",
   "name": "pvle"
  },
  "language_info": {
   "codemirror_mode": {
    "name": "ipython",
    "version": 2
   },
   "file_extension": ".py",
   "mimetype": "text/x-python",
   "name": "python",
   "nbconvert_exporter": "python",
   "pygments_lexer": "ipython2",
   "version": "2.7.5"
  }
 },
 "nbformat": 4,
 "nbformat_minor": 2
}
