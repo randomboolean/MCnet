{
 "cells": [
  {
   "cell_type": "code",
   "execution_count": 1,
   "metadata": {
    "collapsed": true
   },
   "outputs": [],
   "source": [
    "import os\n",
    "os.environ['CUDA_VISIBLE_DEVICES'] = '0'"
   ]
  },
  {
   "cell_type": "code",
   "execution_count": 2,
   "metadata": {},
   "outputs": [
    {
     "name": "stderr",
     "output_type": "stream",
     "text": [
      "Using TensorFlow backend.\n"
     ]
    }
   ],
   "source": [
    "from __future__ import print_function\n",
    "\n",
    "import keras\n",
    "from keras.models import Sequential\n",
    "from keras.layers import Dense, Dropout\n",
    "\n",
    "from loader import load_20news"
   ]
  },
  {
   "cell_type": "code",
   "execution_count": 3,
   "metadata": {
    "collapsed": true
   },
   "outputs": [],
   "source": [
    "(input_shape, nb_classes), (X_train, X_test, Y_train, Y_test), graph_data = \\\n",
    "    load_20news(data_home='data', top_words=10000, sparse=False, remove_short_documents=True, verbose=False)"
   ]
  },
  {
   "cell_type": "code",
   "execution_count": 4,
   "metadata": {
    "collapsed": true
   },
   "outputs": [],
   "source": [
    "X_train = X_train.reshape(X_train.shape[0], X_train.shape[1] * X_train.shape[2])\n",
    "X_test = X_test.reshape(X_test.shape[0], X_test.shape[1] * X_test.shape[2])\n",
    "batch_size = 64\n",
    "num_classes = Y_train.shape[1]"
   ]
  },
  {
   "cell_type": "code",
   "execution_count": 5,
   "metadata": {},
   "outputs": [
    {
     "name": "stdout",
     "output_type": "stream",
     "text": [
      "(10168, 10000)\n",
      "(7071, 10000)\n",
      "64 20\n"
     ]
    }
   ],
   "source": [
    "print(X_train.shape)\n",
    "print(X_test.shape)\n",
    "print(batch_size, num_classes)"
   ]
  },
  {
   "cell_type": "code",
   "execution_count": 6,
   "metadata": {},
   "outputs": [
    {
     "name": "stdout",
     "output_type": "stream",
     "text": [
      "_________________________________________________________________\n",
      "Layer (type)                 Output Shape              Param #   \n",
      "=================================================================\n",
      "dense_1 (Dense)              (None, 500)               5000500   \n",
      "_________________________________________________________________\n",
      "dropout_1 (Dropout)          (None, 500)               0         \n",
      "_________________________________________________________________\n",
      "dense_2 (Dense)              (None, 20)                10020     \n",
      "=================================================================\n",
      "Total params: 5,010,520\n",
      "Trainable params: 5,010,520\n",
      "Non-trainable params: 0\n",
      "_________________________________________________________________\n"
     ]
    }
   ],
   "source": [
    "model = Sequential()\n",
    "model.add(Dense(500, activation='relu', input_shape=(X_train.shape[1],)))\n",
    "model.add(Dropout(0.2))\n",
    "#model.add(Dense(500, activation='relu'))\n",
    "#model.add(Dropout(0.2))\n",
    "model.add(Dense(num_classes, activation='softmax'))\n",
    "model.summary()"
   ]
  },
  {
   "cell_type": "code",
   "execution_count": 7,
   "metadata": {},
   "outputs": [
    {
     "name": "stdout",
     "output_type": "stream",
     "text": [
      "Train on 10168 samples, validate on 7071 samples\n",
      "Epoch 1/20\n",
      "10168/10168 [==============================] - 3s - loss: 2.7788 - acc: 0.3811 - val_loss: 2.4265 - val_acc: 0.5513\n",
      "Epoch 2/20\n",
      "10168/10168 [==============================] - 1s - loss: 1.8449 - acc: 0.6813 - val_loss: 1.6298 - val_acc: 0.6610\n",
      "Epoch 3/20\n",
      "10168/10168 [==============================] - 1s - loss: 1.1013 - acc: 0.8104 - val_loss: 1.2625 - val_acc: 0.6979\n",
      "Epoch 4/20\n",
      "10168/10168 [==============================] - 1s - loss: 0.7261 - acc: 0.8690 - val_loss: 1.1158 - val_acc: 0.7143\n",
      "Epoch 5/20\n",
      "10168/10168 [==============================] - 1s - loss: 0.5156 - acc: 0.9080 - val_loss: 1.0558 - val_acc: 0.7129\n",
      "Epoch 6/20\n",
      "10168/10168 [==============================] - 1s - loss: 0.3786 - acc: 0.9358 - val_loss: 1.0264 - val_acc: 0.7160\n",
      "Epoch 7/20\n",
      "10168/10168 [==============================] - 1s - loss: 0.2835 - acc: 0.9542 - val_loss: 1.0146 - val_acc: 0.7183\n",
      "Epoch 8/20\n",
      "10168/10168 [==============================] - 1s - loss: 0.2191 - acc: 0.9690 - val_loss: 1.0155 - val_acc: 0.7224\n",
      "Epoch 9/20\n",
      "10168/10168 [==============================] - 1s - loss: 0.1691 - acc: 0.9772 - val_loss: 1.0283 - val_acc: 0.7181\n",
      "Epoch 10/20\n",
      "10168/10168 [==============================] - 1s - loss: 0.1332 - acc: 0.9838 - val_loss: 1.0285 - val_acc: 0.7222\n",
      "Epoch 11/20\n",
      "10168/10168 [==============================] - 1s - loss: 0.1055 - acc: 0.9891 - val_loss: 1.0442 - val_acc: 0.7193\n",
      "Epoch 12/20\n",
      "10168/10168 [==============================] - 1s - loss: 0.0864 - acc: 0.9911 - val_loss: 1.0573 - val_acc: 0.7207\n",
      "Epoch 13/20\n",
      "10168/10168 [==============================] - 1s - loss: 0.0689 - acc: 0.9940 - val_loss: 1.0702 - val_acc: 0.7173\n",
      "Epoch 14/20\n",
      "10168/10168 [==============================] - 1s - loss: 0.0573 - acc: 0.9954 - val_loss: 1.0854 - val_acc: 0.7167\n",
      "Epoch 15/20\n",
      "10168/10168 [==============================] - 1s - loss: 0.0474 - acc: 0.9970 - val_loss: 1.1082 - val_acc: 0.7177\n",
      "Epoch 16/20\n",
      "10168/10168 [==============================] - 1s - loss: 0.0399 - acc: 0.9968 - val_loss: 1.1244 - val_acc: 0.7156\n",
      "Epoch 17/20\n",
      "10168/10168 [==============================] - 1s - loss: 0.0338 - acc: 0.9977 - val_loss: 1.1370 - val_acc: 0.7162\n",
      "Epoch 18/20\n",
      "10168/10168 [==============================] - 1s - loss: 0.0289 - acc: 0.9980 - val_loss: 1.1561 - val_acc: 0.7143\n",
      "Epoch 19/20\n",
      "10168/10168 [==============================] - 1s - loss: 0.0248 - acc: 0.9978 - val_loss: 1.1729 - val_acc: 0.7142\n",
      "Epoch 20/20\n",
      "10168/10168 [==============================] - 1s - loss: 0.0215 - acc: 0.9983 - val_loss: 1.1888 - val_acc: 0.7131\n",
      "Test loss: 1.18883648074\n",
      "Test accuracy: 0.713053316127\n"
     ]
    }
   ],
   "source": [
    "model.compile(loss='categorical_crossentropy',\n",
    "              optimizer='adam',\n",
    "              metrics=['accuracy'])\n",
    "\n",
    "history = model.fit(X_train, Y_train,\n",
    "                    batch_size=batch_size,\n",
    "                    epochs=20,\n",
    "                    verbose=1,\n",
    "                    validation_data=(X_test, Y_test))\n",
    "score = model.evaluate(X_test, Y_test, verbose=0)\n",
    "\n",
    "print('Test loss:', score[0])\n",
    "print('Test accuracy:', score[1])"
   ]
  }
 ],
 "metadata": {
  "kernelspec": {
   "display_name": "pvle",
   "language": "python",
   "name": "pvle"
  },
  "language_info": {
   "codemirror_mode": {
    "name": "ipython",
    "version": 2
   },
   "file_extension": ".py",
   "mimetype": "text/x-python",
   "name": "python",
   "nbconvert_exporter": "python",
   "pygments_lexer": "ipython2",
   "version": "2.7.5"
  }
 },
 "nbformat": 4,
 "nbformat_minor": 2
}
