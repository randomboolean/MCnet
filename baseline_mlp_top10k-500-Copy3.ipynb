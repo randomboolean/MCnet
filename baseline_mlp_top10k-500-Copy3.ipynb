{
 "cells": [
  {
   "cell_type": "code",
   "execution_count": 1,
   "metadata": {
    "collapsed": true
   },
   "outputs": [],
   "source": [
    "import os\n",
    "os.environ['CUDA_VISIBLE_DEVICES'] = '0'"
   ]
  },
  {
   "cell_type": "code",
   "execution_count": 2,
   "metadata": {},
   "outputs": [
    {
     "name": "stderr",
     "output_type": "stream",
     "text": [
      "Using TensorFlow backend.\n"
     ]
    }
   ],
   "source": [
    "from __future__ import print_function\n",
    "\n",
    "import keras\n",
    "from keras.models import Sequential\n",
    "from keras.layers import Dense, Dropout\n",
    "\n",
    "from loader import load_20news"
   ]
  },
  {
   "cell_type": "code",
   "execution_count": 3,
   "metadata": {
    "collapsed": true
   },
   "outputs": [],
   "source": [
    "(input_shape, nb_classes), (X_train, X_test, Y_train, Y_test), graph_data = \\\n",
    "    load_20news(data_home='data', top_words=10000, sparse=False, remove_short_documents=True, verbose=False)"
   ]
  },
  {
   "cell_type": "code",
   "execution_count": 4,
   "metadata": {
    "collapsed": true
   },
   "outputs": [],
   "source": [
    "X_train = X_train.reshape(X_train.shape[0], X_train.shape[1] * X_train.shape[2])\n",
    "X_test = X_test.reshape(X_test.shape[0], X_test.shape[1] * X_test.shape[2])\n",
    "batch_size = 64\n",
    "num_classes = Y_train.shape[1]"
   ]
  },
  {
   "cell_type": "code",
   "execution_count": 5,
   "metadata": {},
   "outputs": [
    {
     "name": "stdout",
     "output_type": "stream",
     "text": [
      "(10168, 10000)\n",
      "(7071, 10000)\n",
      "64 20\n"
     ]
    }
   ],
   "source": [
    "print(X_train.shape)\n",
    "print(X_test.shape)\n",
    "print(batch_size, num_classes)"
   ]
  },
  {
   "cell_type": "code",
   "execution_count": 6,
   "metadata": {},
   "outputs": [
    {
     "name": "stdout",
     "output_type": "stream",
     "text": [
      "_________________________________________________________________\n",
      "Layer (type)                 Output Shape              Param #   \n",
      "=================================================================\n",
      "dense_1 (Dense)              (None, 500)               5000500   \n",
      "_________________________________________________________________\n",
      "dropout_1 (Dropout)          (None, 500)               0         \n",
      "_________________________________________________________________\n",
      "dense_2 (Dense)              (None, 20)                10020     \n",
      "=================================================================\n",
      "Total params: 5,010,520\n",
      "Trainable params: 5,010,520\n",
      "Non-trainable params: 0\n",
      "_________________________________________________________________\n"
     ]
    }
   ],
   "source": [
    "model = Sequential()\n",
    "model.add(Dense(500, activation='relu', input_shape=(X_train.shape[1],)))\n",
    "model.add(Dropout(0.2))\n",
    "#model.add(Dense(500, activation='relu'))\n",
    "#model.add(Dropout(0.2))\n",
    "model.add(Dense(num_classes, activation='softmax'))\n",
    "model.summary()"
   ]
  },
  {
   "cell_type": "code",
   "execution_count": 7,
   "metadata": {},
   "outputs": [
    {
     "name": "stdout",
     "output_type": "stream",
     "text": [
      "Train on 10168 samples, validate on 7071 samples\n",
      "Epoch 1/20\n",
      "10168/10168 [==============================] - 3s - loss: 2.7800 - acc: 0.3661 - val_loss: 2.4297 - val_acc: 0.5329\n",
      "Epoch 2/20\n",
      "10168/10168 [==============================] - 1s - loss: 1.8430 - acc: 0.6938 - val_loss: 1.6228 - val_acc: 0.6592\n",
      "Epoch 3/20\n",
      "10168/10168 [==============================] - 1s - loss: 1.0962 - acc: 0.8130 - val_loss: 1.2619 - val_acc: 0.6988\n",
      "Epoch 4/20\n",
      "10168/10168 [==============================] - 1s - loss: 0.7235 - acc: 0.8716 - val_loss: 1.1123 - val_acc: 0.7135\n",
      "Epoch 5/20\n",
      "10168/10168 [==============================] - 1s - loss: 0.5108 - acc: 0.9117 - val_loss: 1.0547 - val_acc: 0.7184\n",
      "Epoch 6/20\n",
      "10168/10168 [==============================] - 1s - loss: 0.3765 - acc: 0.9369 - val_loss: 1.0224 - val_acc: 0.7200\n",
      "Epoch 7/20\n",
      "10168/10168 [==============================] - 1s - loss: 0.2828 - acc: 0.9563 - val_loss: 1.0118 - val_acc: 0.7181\n",
      "Epoch 8/20\n",
      "10168/10168 [==============================] - 1s - loss: 0.2153 - acc: 0.9702 - val_loss: 1.0139 - val_acc: 0.7184\n",
      "Epoch 9/20\n",
      "10168/10168 [==============================] - 1s - loss: 0.1679 - acc: 0.9776 - val_loss: 1.0265 - val_acc: 0.7217\n",
      "Epoch 10/20\n",
      "10168/10168 [==============================] - 1s - loss: 0.1302 - acc: 0.9863 - val_loss: 1.0305 - val_acc: 0.7193\n",
      "Epoch 11/20\n",
      "10168/10168 [==============================] - 1s - loss: 0.1046 - acc: 0.9902 - val_loss: 1.0482 - val_acc: 0.7194\n",
      "Epoch 12/20\n",
      "10168/10168 [==============================] - 1s - loss: 0.0843 - acc: 0.9923 - val_loss: 1.0603 - val_acc: 0.7169\n",
      "Epoch 13/20\n",
      "10168/10168 [==============================] - 1s - loss: 0.0679 - acc: 0.9939 - val_loss: 1.0753 - val_acc: 0.7187\n",
      "Epoch 14/20\n",
      "10168/10168 [==============================] - 1s - loss: 0.0561 - acc: 0.9956 - val_loss: 1.0932 - val_acc: 0.7186\n",
      "Epoch 15/20\n",
      "10168/10168 [==============================] - 1s - loss: 0.0474 - acc: 0.9959 - val_loss: 1.1095 - val_acc: 0.7160\n",
      "Epoch 16/20\n",
      "10168/10168 [==============================] - 1s - loss: 0.0384 - acc: 0.9972 - val_loss: 1.1240 - val_acc: 0.7167\n",
      "Epoch 17/20\n",
      "10168/10168 [==============================] - 1s - loss: 0.0332 - acc: 0.9975 - val_loss: 1.1403 - val_acc: 0.7172\n",
      "Epoch 18/20\n",
      "10168/10168 [==============================] - 1s - loss: 0.0284 - acc: 0.9982 - val_loss: 1.1597 - val_acc: 0.7163\n",
      "Epoch 19/20\n",
      "10168/10168 [==============================] - 1s - loss: 0.0244 - acc: 0.9984 - val_loss: 1.1830 - val_acc: 0.7146\n",
      "Epoch 20/20\n",
      "10168/10168 [==============================] - 1s - loss: 0.0210 - acc: 0.9984 - val_loss: 1.1935 - val_acc: 0.7138\n",
      "Test loss: 1.19347271726\n",
      "Test accuracy: 0.713760429689\n"
     ]
    }
   ],
   "source": [
    "model.compile(loss='categorical_crossentropy',\n",
    "              optimizer='adam',\n",
    "              metrics=['accuracy'])\n",
    "\n",
    "history = model.fit(X_train, Y_train,\n",
    "                    batch_size=batch_size,\n",
    "                    epochs=20,\n",
    "                    verbose=1,\n",
    "                    validation_data=(X_test, Y_test))\n",
    "score = model.evaluate(X_test, Y_test, verbose=0)\n",
    "\n",
    "print('Test loss:', score[0])\n",
    "print('Test accuracy:', score[1])"
   ]
  }
 ],
 "metadata": {
  "kernelspec": {
   "display_name": "pvle",
   "language": "python",
   "name": "pvle"
  },
  "language_info": {
   "codemirror_mode": {
    "name": "ipython",
    "version": 2
   },
   "file_extension": ".py",
   "mimetype": "text/x-python",
   "name": "python",
   "nbconvert_exporter": "python",
   "pygments_lexer": "ipython2",
   "version": "2.7.5"
  }
 },
 "nbformat": 4,
 "nbformat_minor": 2
}
